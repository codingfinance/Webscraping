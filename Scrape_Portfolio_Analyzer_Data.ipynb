{
 "cells": [
  {
   "cell_type": "markdown",
   "metadata": {},
   "source": [
    "## Getting data from Portfolio Visualizer"
   ]
  },
  {
   "cell_type": "markdown",
   "metadata": {},
   "source": [
    "Import the libraries"
   ]
  },
  {
   "cell_type": "code",
   "execution_count": 1,
   "metadata": {},
   "outputs": [],
   "source": [
    "from urllib.request import urlopen\n",
    "from bs4 import BeautifulSoup\n",
    "import pandas as pd\n",
    "import numpy as np"
   ]
  },
  {
   "cell_type": "markdown",
   "metadata": {},
   "source": [
    "Get the html page."
   ]
  },
  {
   "cell_type": "code",
   "execution_count": 2,
   "metadata": {},
   "outputs": [],
   "source": [
    "my_url = urlopen('https://www.portfoliovisualizer.com/historical-asset-class-returns')\n",
    "\n",
    "soup = BeautifulSoup(my_url.read(), 'lxml')"
   ]
  },
  {
   "cell_type": "markdown",
   "metadata": {},
   "source": [
    "We want to first get just the column names. So we will select them."
   ]
  },
  {
   "cell_type": "code",
   "execution_count": 3,
   "metadata": {},
   "outputs": [],
   "source": [
    "col_names = soup.tr\n",
    "\n",
    "col_names = col_names.text.split('\\n')"
   ]
  },
  {
   "cell_type": "markdown",
   "metadata": {},
   "source": [
    "Lets pring them out and see if we have correctly grabbed them."
   ]
  },
  {
   "cell_type": "code",
   "execution_count": 4,
   "metadata": {},
   "outputs": [
    {
     "data": {
      "text/plain": [
       "['',\n",
       " 'Year',\n",
       " 'Inflation',\n",
       " 'US Stock Market',\n",
       " 'US Large Cap',\n",
       " 'US Large Cap Value',\n",
       " 'US Large Cap Growth',\n",
       " 'US Mid Cap',\n",
       " 'US Mid Cap Value',\n",
       " 'US Mid Cap Growth',\n",
       " 'US Small Cap',\n",
       " 'US Small Cap Value',\n",
       " 'US Small Cap Growth',\n",
       " 'US Micro Cap',\n",
       " 'Global ex-US Stock Market',\n",
       " 'Intl Developed ex-US Market',\n",
       " 'International ex-US Small Cap',\n",
       " 'International ex-US Value',\n",
       " 'European Stocks',\n",
       " 'Pacific Stocks',\n",
       " 'Emerging Markets',\n",
       " 'Cash',\n",
       " 'Short Term Treasury',\n",
       " 'Intermediate Term Treasury',\n",
       " '10-year Treasury',\n",
       " 'Long Term Treasury',\n",
       " 'Total US Bond Market',\n",
       " 'TIPS',\n",
       " 'Global Bonds (Unhedged)',\n",
       " 'Global Bonds (USD Hedged)',\n",
       " 'Short-Term Investment Grade',\n",
       " 'Corporate Bonds',\n",
       " 'Long-Term Corporate Bonds',\n",
       " 'High Yield Corporate Bonds',\n",
       " 'Short-Term Tax-Exempt',\n",
       " 'Intermediate-Term Tax-Exempt',\n",
       " 'Long-Term Tax-Exempt',\n",
       " 'REIT',\n",
       " 'Gold',\n",
       " 'Precious Metals',\n",
       " 'Commodities',\n",
       " '']"
      ]
     },
     "execution_count": 4,
     "metadata": {},
     "output_type": "execute_result"
    }
   ],
   "source": [
    "col_names"
   ]
  },
  {
   "cell_type": "markdown",
   "metadata": {},
   "source": [
    "We can see that there are some empty values, so we will remove them."
   ]
  },
  {
   "cell_type": "code",
   "execution_count": 5,
   "metadata": {},
   "outputs": [
    {
     "data": {
      "text/plain": [
       "['Year',\n",
       " 'Inflation',\n",
       " 'US Stock Market',\n",
       " 'US Large Cap',\n",
       " 'US Large Cap Value',\n",
       " 'US Large Cap Growth',\n",
       " 'US Mid Cap',\n",
       " 'US Mid Cap Value',\n",
       " 'US Mid Cap Growth',\n",
       " 'US Small Cap',\n",
       " 'US Small Cap Value',\n",
       " 'US Small Cap Growth',\n",
       " 'US Micro Cap',\n",
       " 'Global ex-US Stock Market',\n",
       " 'Intl Developed ex-US Market',\n",
       " 'International ex-US Small Cap',\n",
       " 'International ex-US Value',\n",
       " 'European Stocks',\n",
       " 'Pacific Stocks',\n",
       " 'Emerging Markets',\n",
       " 'Cash',\n",
       " 'Short Term Treasury',\n",
       " 'Intermediate Term Treasury',\n",
       " '10-year Treasury',\n",
       " 'Long Term Treasury',\n",
       " 'Total US Bond Market',\n",
       " 'TIPS',\n",
       " 'Global Bonds (Unhedged)',\n",
       " 'Global Bonds (USD Hedged)',\n",
       " 'Short-Term Investment Grade',\n",
       " 'Corporate Bonds',\n",
       " 'Long-Term Corporate Bonds',\n",
       " 'High Yield Corporate Bonds',\n",
       " 'Short-Term Tax-Exempt',\n",
       " 'Intermediate-Term Tax-Exempt',\n",
       " 'Long-Term Tax-Exempt',\n",
       " 'REIT',\n",
       " 'Gold',\n",
       " 'Precious Metals',\n",
       " 'Commodities']"
      ]
     },
     "execution_count": 5,
     "metadata": {},
     "output_type": "execute_result"
    }
   ],
   "source": [
    "col_names = list(filter(None,col_names))\n",
    "\n",
    "col_names"
   ]
  },
  {
   "cell_type": "markdown",
   "metadata": {},
   "source": [
    "This looks better."
   ]
  },
  {
   "cell_type": "markdown",
   "metadata": {},
   "source": [
    "Now we will get all the data, which is in a nice format."
   ]
  },
  {
   "cell_type": "code",
   "execution_count": 6,
   "metadata": {},
   "outputs": [],
   "source": [
    "data = []\n",
    "for t in soup.find_all('td'):\n",
    "    data.append(t.text)"
   ]
  },
  {
   "cell_type": "markdown",
   "metadata": {},
   "source": [
    "Lets look at the first 20 and last 20 values."
   ]
  },
  {
   "cell_type": "code",
   "execution_count": 7,
   "metadata": {},
   "outputs": [
    {
     "data": {
      "text/plain": [
       "['1972',\n",
       " '3.41%',\n",
       " '17.62%',\n",
       " '18.95%',\n",
       " '15.32%',\n",
       " '22.97%',\n",
       " '8.02%',\n",
       " '11.94%',\n",
       " '4.29%',\n",
       " '8.66%',\n",
       " '11.15%',\n",
       " '6.36%',\n",
       " '1.01%',\n",
       " 'N/A',\n",
       " 'N/A',\n",
       " 'N/A',\n",
       " 'N/A',\n",
       " 'N/A',\n",
       " 'N/A',\n",
       " 'N/A']"
      ]
     },
     "execution_count": 7,
     "metadata": {},
     "output_type": "execute_result"
    }
   ],
   "source": [
    "data[:20]"
   ]
  },
  {
   "cell_type": "code",
   "execution_count": 8,
   "metadata": {},
   "outputs": [
    {
     "data": {
      "text/plain": [
       "['0.60%',\n",
       " '2.19%',\n",
       " '3.47%',\n",
       " '7.29%',\n",
       " '2.11%',\n",
       " '2.12%',\n",
       " '0.35%',\n",
       " '1.29%',\n",
       " '0.87%',\n",
       " '2.45%',\n",
       " '5.14%',\n",
       " '0.08%',\n",
       " '0.37%',\n",
       " '1.59%',\n",
       " '2.01%',\n",
       " '1.17%',\n",
       " '4.50%',\n",
       " '-0.99%',\n",
       " '-10.61%',\n",
       " '\\n                The annual returns for 2020 are based on monthly returns from January to January.\\n            ']"
      ]
     },
     "execution_count": 8,
     "metadata": {},
     "output_type": "execute_result"
    }
   ],
   "source": [
    "data[-20:]"
   ]
  },
  {
   "cell_type": "markdown",
   "metadata": {},
   "source": [
    "We see that the last row contains some unwanted data. We will remove it now. "
   ]
  },
  {
   "cell_type": "code",
   "execution_count": 9,
   "metadata": {},
   "outputs": [],
   "source": [
    "del data[-1]"
   ]
  },
  {
   "cell_type": "code",
   "execution_count": 10,
   "metadata": {},
   "outputs": [
    {
     "data": {
      "text/plain": [
       "1960"
      ]
     },
     "execution_count": 10,
     "metadata": {},
     "output_type": "execute_result"
    }
   ],
   "source": [
    "len(data)"
   ]
  },
  {
   "cell_type": "markdown",
   "metadata": {},
   "source": [
    "We can see that there are 40 columns and 1960 rows after deleting the last row"
   ]
  },
  {
   "cell_type": "code",
   "execution_count": 11,
   "metadata": {},
   "outputs": [
    {
     "data": {
      "text/plain": [
       "40"
      ]
     },
     "execution_count": 11,
     "metadata": {},
     "output_type": "execute_result"
    }
   ],
   "source": [
    "len(col_names)"
   ]
  },
  {
   "cell_type": "markdown",
   "metadata": {},
   "source": [
    "Lets create our dataframe with 40 columns. We will make the Year column as our index."
   ]
  },
  {
   "cell_type": "code",
   "execution_count": 12,
   "metadata": {},
   "outputs": [],
   "source": [
    "df_returns = pd.DataFrame(np.array(data).reshape(-1,40), columns=col_names)\n",
    "df_returns['Year'] = pd.to_datetime(df_returns['Year']) - pd.Timedelta(365)"
   ]
  },
  {
   "cell_type": "code",
   "execution_count": 13,
   "metadata": {},
   "outputs": [
    {
     "data": {
      "text/html": [
       "<div>\n",
       "<style scoped>\n",
       "    .dataframe tbody tr th:only-of-type {\n",
       "        vertical-align: middle;\n",
       "    }\n",
       "\n",
       "    .dataframe tbody tr th {\n",
       "        vertical-align: top;\n",
       "    }\n",
       "\n",
       "    .dataframe thead th {\n",
       "        text-align: right;\n",
       "    }\n",
       "</style>\n",
       "<table border=\"1\" class=\"dataframe\">\n",
       "  <thead>\n",
       "    <tr style=\"text-align: right;\">\n",
       "      <th></th>\n",
       "      <th>Year</th>\n",
       "      <th>Inflation</th>\n",
       "      <th>US Stock Market</th>\n",
       "      <th>US Large Cap</th>\n",
       "      <th>US Large Cap Value</th>\n",
       "      <th>US Large Cap Growth</th>\n",
       "      <th>US Mid Cap</th>\n",
       "      <th>US Mid Cap Value</th>\n",
       "      <th>US Mid Cap Growth</th>\n",
       "      <th>US Small Cap</th>\n",
       "      <th>...</th>\n",
       "      <th>Corporate Bonds</th>\n",
       "      <th>Long-Term Corporate Bonds</th>\n",
       "      <th>High Yield Corporate Bonds</th>\n",
       "      <th>Short-Term Tax-Exempt</th>\n",
       "      <th>Intermediate-Term Tax-Exempt</th>\n",
       "      <th>Long-Term Tax-Exempt</th>\n",
       "      <th>REIT</th>\n",
       "      <th>Gold</th>\n",
       "      <th>Precious Metals</th>\n",
       "      <th>Commodities</th>\n",
       "    </tr>\n",
       "  </thead>\n",
       "  <tbody>\n",
       "    <tr>\n",
       "      <th>0</th>\n",
       "      <td>1971-12-31 23:59:59.999999635</td>\n",
       "      <td>3.41%</td>\n",
       "      <td>17.62%</td>\n",
       "      <td>18.95%</td>\n",
       "      <td>15.32%</td>\n",
       "      <td>22.97%</td>\n",
       "      <td>8.02%</td>\n",
       "      <td>11.94%</td>\n",
       "      <td>4.29%</td>\n",
       "      <td>8.66%</td>\n",
       "      <td>...</td>\n",
       "      <td>N/A</td>\n",
       "      <td>N/A</td>\n",
       "      <td>N/A</td>\n",
       "      <td>N/A</td>\n",
       "      <td>N/A</td>\n",
       "      <td>N/A</td>\n",
       "      <td>N/A</td>\n",
       "      <td>49.02%</td>\n",
       "      <td>N/A</td>\n",
       "      <td>N/A</td>\n",
       "    </tr>\n",
       "    <tr>\n",
       "      <th>1</th>\n",
       "      <td>1972-12-31 23:59:59.999999635</td>\n",
       "      <td>8.71%</td>\n",
       "      <td>-18.18%</td>\n",
       "      <td>-16.18%</td>\n",
       "      <td>-9.79%</td>\n",
       "      <td>-23.09%</td>\n",
       "      <td>-24.20%</td>\n",
       "      <td>-13.77%</td>\n",
       "      <td>-32.96%</td>\n",
       "      <td>-32.85%</td>\n",
       "      <td>...</td>\n",
       "      <td>N/A</td>\n",
       "      <td>N/A</td>\n",
       "      <td>N/A</td>\n",
       "      <td>N/A</td>\n",
       "      <td>N/A</td>\n",
       "      <td>N/A</td>\n",
       "      <td>N/A</td>\n",
       "      <td>72.96%</td>\n",
       "      <td>N/A</td>\n",
       "      <td>N/A</td>\n",
       "    </tr>\n",
       "    <tr>\n",
       "      <th>2</th>\n",
       "      <td>1973-12-31 23:59:59.999999635</td>\n",
       "      <td>12.34%</td>\n",
       "      <td>-27.81%</td>\n",
       "      <td>-26.93%</td>\n",
       "      <td>-21.13%</td>\n",
       "      <td>-32.34%</td>\n",
       "      <td>-26.34%</td>\n",
       "      <td>-19.80%</td>\n",
       "      <td>-32.64%</td>\n",
       "      <td>-27.59%</td>\n",
       "      <td>...</td>\n",
       "      <td>N/A</td>\n",
       "      <td>-2.27%</td>\n",
       "      <td>N/A</td>\n",
       "      <td>N/A</td>\n",
       "      <td>N/A</td>\n",
       "      <td>N/A</td>\n",
       "      <td>N/A</td>\n",
       "      <td>66.15%</td>\n",
       "      <td>N/A</td>\n",
       "      <td>N/A</td>\n",
       "    </tr>\n",
       "    <tr>\n",
       "      <th>3</th>\n",
       "      <td>1974-12-31 23:59:59.999999635</td>\n",
       "      <td>6.94%</td>\n",
       "      <td>37.82%</td>\n",
       "      <td>36.95%</td>\n",
       "      <td>40.67%</td>\n",
       "      <td>33.10%</td>\n",
       "      <td>48.69%</td>\n",
       "      <td>56.79%</td>\n",
       "      <td>41.95%</td>\n",
       "      <td>55.13%</td>\n",
       "      <td>...</td>\n",
       "      <td>N/A</td>\n",
       "      <td>9.95%</td>\n",
       "      <td>N/A</td>\n",
       "      <td>N/A</td>\n",
       "      <td>N/A</td>\n",
       "      <td>N/A</td>\n",
       "      <td>N/A</td>\n",
       "      <td>-24.80%</td>\n",
       "      <td>N/A</td>\n",
       "      <td>N/A</td>\n",
       "    </tr>\n",
       "    <tr>\n",
       "      <th>4</th>\n",
       "      <td>1975-12-31 23:59:59.999999635</td>\n",
       "      <td>4.86%</td>\n",
       "      <td>26.47%</td>\n",
       "      <td>24.18%</td>\n",
       "      <td>33.32%</td>\n",
       "      <td>14.85%</td>\n",
       "      <td>36.67%</td>\n",
       "      <td>46.79%</td>\n",
       "      <td>26.54%</td>\n",
       "      <td>45.33%</td>\n",
       "      <td>...</td>\n",
       "      <td>N/A</td>\n",
       "      <td>15.35%</td>\n",
       "      <td>N/A</td>\n",
       "      <td>N/A</td>\n",
       "      <td>N/A</td>\n",
       "      <td>N/A</td>\n",
       "      <td>N/A</td>\n",
       "      <td>-4.10%</td>\n",
       "      <td>N/A</td>\n",
       "      <td>N/A</td>\n",
       "    </tr>\n",
       "  </tbody>\n",
       "</table>\n",
       "<p>5 rows × 40 columns</p>\n",
       "</div>"
      ],
      "text/plain": [
       "                           Year Inflation US Stock Market US Large Cap  \\\n",
       "0 1971-12-31 23:59:59.999999635     3.41%          17.62%       18.95%   \n",
       "1 1972-12-31 23:59:59.999999635     8.71%         -18.18%      -16.18%   \n",
       "2 1973-12-31 23:59:59.999999635    12.34%         -27.81%      -26.93%   \n",
       "3 1974-12-31 23:59:59.999999635     6.94%          37.82%       36.95%   \n",
       "4 1975-12-31 23:59:59.999999635     4.86%          26.47%       24.18%   \n",
       "\n",
       "  US Large Cap Value US Large Cap Growth US Mid Cap US Mid Cap Value  \\\n",
       "0             15.32%              22.97%      8.02%           11.94%   \n",
       "1             -9.79%             -23.09%    -24.20%          -13.77%   \n",
       "2            -21.13%             -32.34%    -26.34%          -19.80%   \n",
       "3             40.67%              33.10%     48.69%           56.79%   \n",
       "4             33.32%              14.85%     36.67%           46.79%   \n",
       "\n",
       "  US Mid Cap Growth US Small Cap     ...     Corporate Bonds  \\\n",
       "0             4.29%        8.66%     ...                 N/A   \n",
       "1           -32.96%      -32.85%     ...                 N/A   \n",
       "2           -32.64%      -27.59%     ...                 N/A   \n",
       "3            41.95%       55.13%     ...                 N/A   \n",
       "4            26.54%       45.33%     ...                 N/A   \n",
       "\n",
       "  Long-Term Corporate Bonds High Yield Corporate Bonds Short-Term Tax-Exempt  \\\n",
       "0                       N/A                        N/A                   N/A   \n",
       "1                       N/A                        N/A                   N/A   \n",
       "2                    -2.27%                        N/A                   N/A   \n",
       "3                     9.95%                        N/A                   N/A   \n",
       "4                    15.35%                        N/A                   N/A   \n",
       "\n",
       "  Intermediate-Term Tax-Exempt Long-Term Tax-Exempt REIT     Gold  \\\n",
       "0                          N/A                  N/A  N/A   49.02%   \n",
       "1                          N/A                  N/A  N/A   72.96%   \n",
       "2                          N/A                  N/A  N/A   66.15%   \n",
       "3                          N/A                  N/A  N/A  -24.80%   \n",
       "4                          N/A                  N/A  N/A   -4.10%   \n",
       "\n",
       "  Precious Metals Commodities  \n",
       "0             N/A         N/A  \n",
       "1             N/A         N/A  \n",
       "2             N/A         N/A  \n",
       "3             N/A         N/A  \n",
       "4             N/A         N/A  \n",
       "\n",
       "[5 rows x 40 columns]"
      ]
     },
     "execution_count": 13,
     "metadata": {},
     "output_type": "execute_result"
    }
   ],
   "source": [
    "df_returns.head()"
   ]
  },
  {
   "cell_type": "code",
   "execution_count": 14,
   "metadata": {
    "scrolled": true
   },
   "outputs": [],
   "source": [
    "df_returns.set_index('Year', inplace=True)\n",
    "df_returns = df_returns.apply(lambda x: x.str.replace('%', ''))"
   ]
  },
  {
   "cell_type": "code",
   "execution_count": 15,
   "metadata": {},
   "outputs": [
    {
     "data": {
      "text/html": [
       "<div>\n",
       "<style scoped>\n",
       "    .dataframe tbody tr th:only-of-type {\n",
       "        vertical-align: middle;\n",
       "    }\n",
       "\n",
       "    .dataframe tbody tr th {\n",
       "        vertical-align: top;\n",
       "    }\n",
       "\n",
       "    .dataframe thead th {\n",
       "        text-align: right;\n",
       "    }\n",
       "</style>\n",
       "<table border=\"1\" class=\"dataframe\">\n",
       "  <thead>\n",
       "    <tr style=\"text-align: right;\">\n",
       "      <th></th>\n",
       "      <th>Inflation</th>\n",
       "      <th>US Stock Market</th>\n",
       "      <th>US Large Cap</th>\n",
       "      <th>US Large Cap Value</th>\n",
       "      <th>US Large Cap Growth</th>\n",
       "      <th>US Mid Cap</th>\n",
       "      <th>US Mid Cap Value</th>\n",
       "      <th>US Mid Cap Growth</th>\n",
       "      <th>US Small Cap</th>\n",
       "      <th>US Small Cap Value</th>\n",
       "      <th>...</th>\n",
       "      <th>Corporate Bonds</th>\n",
       "      <th>Long-Term Corporate Bonds</th>\n",
       "      <th>High Yield Corporate Bonds</th>\n",
       "      <th>Short-Term Tax-Exempt</th>\n",
       "      <th>Intermediate-Term Tax-Exempt</th>\n",
       "      <th>Long-Term Tax-Exempt</th>\n",
       "      <th>REIT</th>\n",
       "      <th>Gold</th>\n",
       "      <th>Precious Metals</th>\n",
       "      <th>Commodities</th>\n",
       "    </tr>\n",
       "    <tr>\n",
       "      <th>Year</th>\n",
       "      <th></th>\n",
       "      <th></th>\n",
       "      <th></th>\n",
       "      <th></th>\n",
       "      <th></th>\n",
       "      <th></th>\n",
       "      <th></th>\n",
       "      <th></th>\n",
       "      <th></th>\n",
       "      <th></th>\n",
       "      <th></th>\n",
       "      <th></th>\n",
       "      <th></th>\n",
       "      <th></th>\n",
       "      <th></th>\n",
       "      <th></th>\n",
       "      <th></th>\n",
       "      <th></th>\n",
       "      <th></th>\n",
       "      <th></th>\n",
       "      <th></th>\n",
       "    </tr>\n",
       "  </thead>\n",
       "  <tbody>\n",
       "    <tr>\n",
       "      <th>1971-12-31 23:59:59.999999635</th>\n",
       "      <td>3.41</td>\n",
       "      <td>17.62</td>\n",
       "      <td>18.95</td>\n",
       "      <td>15.32</td>\n",
       "      <td>22.97</td>\n",
       "      <td>8.02</td>\n",
       "      <td>11.94</td>\n",
       "      <td>4.29</td>\n",
       "      <td>8.66</td>\n",
       "      <td>11.15</td>\n",
       "      <td>...</td>\n",
       "      <td>N/A</td>\n",
       "      <td>N/A</td>\n",
       "      <td>N/A</td>\n",
       "      <td>N/A</td>\n",
       "      <td>N/A</td>\n",
       "      <td>N/A</td>\n",
       "      <td>N/A</td>\n",
       "      <td>49.02</td>\n",
       "      <td>N/A</td>\n",
       "      <td>N/A</td>\n",
       "    </tr>\n",
       "    <tr>\n",
       "      <th>1972-12-31 23:59:59.999999635</th>\n",
       "      <td>8.71</td>\n",
       "      <td>-18.18</td>\n",
       "      <td>-16.18</td>\n",
       "      <td>-9.79</td>\n",
       "      <td>-23.09</td>\n",
       "      <td>-24.20</td>\n",
       "      <td>-13.77</td>\n",
       "      <td>-32.96</td>\n",
       "      <td>-32.85</td>\n",
       "      <td>-24.12</td>\n",
       "      <td>...</td>\n",
       "      <td>N/A</td>\n",
       "      <td>N/A</td>\n",
       "      <td>N/A</td>\n",
       "      <td>N/A</td>\n",
       "      <td>N/A</td>\n",
       "      <td>N/A</td>\n",
       "      <td>N/A</td>\n",
       "      <td>72.96</td>\n",
       "      <td>N/A</td>\n",
       "      <td>N/A</td>\n",
       "    </tr>\n",
       "    <tr>\n",
       "      <th>1973-12-31 23:59:59.999999635</th>\n",
       "      <td>12.34</td>\n",
       "      <td>-27.81</td>\n",
       "      <td>-26.93</td>\n",
       "      <td>-21.13</td>\n",
       "      <td>-32.34</td>\n",
       "      <td>-26.34</td>\n",
       "      <td>-19.80</td>\n",
       "      <td>-32.64</td>\n",
       "      <td>-27.59</td>\n",
       "      <td>-21.09</td>\n",
       "      <td>...</td>\n",
       "      <td>N/A</td>\n",
       "      <td>-2.27</td>\n",
       "      <td>N/A</td>\n",
       "      <td>N/A</td>\n",
       "      <td>N/A</td>\n",
       "      <td>N/A</td>\n",
       "      <td>N/A</td>\n",
       "      <td>66.15</td>\n",
       "      <td>N/A</td>\n",
       "      <td>N/A</td>\n",
       "    </tr>\n",
       "    <tr>\n",
       "      <th>1974-12-31 23:59:59.999999635</th>\n",
       "      <td>6.94</td>\n",
       "      <td>37.82</td>\n",
       "      <td>36.95</td>\n",
       "      <td>40.67</td>\n",
       "      <td>33.10</td>\n",
       "      <td>48.69</td>\n",
       "      <td>56.79</td>\n",
       "      <td>41.95</td>\n",
       "      <td>55.13</td>\n",
       "      <td>53.94</td>\n",
       "      <td>...</td>\n",
       "      <td>N/A</td>\n",
       "      <td>9.95</td>\n",
       "      <td>N/A</td>\n",
       "      <td>N/A</td>\n",
       "      <td>N/A</td>\n",
       "      <td>N/A</td>\n",
       "      <td>N/A</td>\n",
       "      <td>-24.80</td>\n",
       "      <td>N/A</td>\n",
       "      <td>N/A</td>\n",
       "    </tr>\n",
       "    <tr>\n",
       "      <th>1975-12-31 23:59:59.999999635</th>\n",
       "      <td>4.86</td>\n",
       "      <td>26.47</td>\n",
       "      <td>24.18</td>\n",
       "      <td>33.32</td>\n",
       "      <td>14.85</td>\n",
       "      <td>36.67</td>\n",
       "      <td>46.79</td>\n",
       "      <td>26.54</td>\n",
       "      <td>45.33</td>\n",
       "      <td>54.78</td>\n",
       "      <td>...</td>\n",
       "      <td>N/A</td>\n",
       "      <td>15.35</td>\n",
       "      <td>N/A</td>\n",
       "      <td>N/A</td>\n",
       "      <td>N/A</td>\n",
       "      <td>N/A</td>\n",
       "      <td>N/A</td>\n",
       "      <td>-4.10</td>\n",
       "      <td>N/A</td>\n",
       "      <td>N/A</td>\n",
       "    </tr>\n",
       "  </tbody>\n",
       "</table>\n",
       "<p>5 rows × 39 columns</p>\n",
       "</div>"
      ],
      "text/plain": [
       "                              Inflation US Stock Market US Large Cap  \\\n",
       "Year                                                                   \n",
       "1971-12-31 23:59:59.999999635      3.41           17.62        18.95   \n",
       "1972-12-31 23:59:59.999999635      8.71          -18.18       -16.18   \n",
       "1973-12-31 23:59:59.999999635     12.34          -27.81       -26.93   \n",
       "1974-12-31 23:59:59.999999635      6.94           37.82        36.95   \n",
       "1975-12-31 23:59:59.999999635      4.86           26.47        24.18   \n",
       "\n",
       "                              US Large Cap Value US Large Cap Growth  \\\n",
       "Year                                                                   \n",
       "1971-12-31 23:59:59.999999635              15.32               22.97   \n",
       "1972-12-31 23:59:59.999999635              -9.79              -23.09   \n",
       "1973-12-31 23:59:59.999999635             -21.13              -32.34   \n",
       "1974-12-31 23:59:59.999999635              40.67               33.10   \n",
       "1975-12-31 23:59:59.999999635              33.32               14.85   \n",
       "\n",
       "                              US Mid Cap US Mid Cap Value US Mid Cap Growth  \\\n",
       "Year                                                                          \n",
       "1971-12-31 23:59:59.999999635       8.02            11.94              4.29   \n",
       "1972-12-31 23:59:59.999999635     -24.20           -13.77            -32.96   \n",
       "1973-12-31 23:59:59.999999635     -26.34           -19.80            -32.64   \n",
       "1974-12-31 23:59:59.999999635      48.69            56.79             41.95   \n",
       "1975-12-31 23:59:59.999999635      36.67            46.79             26.54   \n",
       "\n",
       "                              US Small Cap US Small Cap Value     ...      \\\n",
       "Year                                                              ...       \n",
       "1971-12-31 23:59:59.999999635         8.66              11.15     ...       \n",
       "1972-12-31 23:59:59.999999635       -32.85             -24.12     ...       \n",
       "1973-12-31 23:59:59.999999635       -27.59             -21.09     ...       \n",
       "1974-12-31 23:59:59.999999635        55.13              53.94     ...       \n",
       "1975-12-31 23:59:59.999999635        45.33              54.78     ...       \n",
       "\n",
       "                              Corporate Bonds Long-Term Corporate Bonds  \\\n",
       "Year                                                                      \n",
       "1971-12-31 23:59:59.999999635             N/A                       N/A   \n",
       "1972-12-31 23:59:59.999999635             N/A                       N/A   \n",
       "1973-12-31 23:59:59.999999635             N/A                     -2.27   \n",
       "1974-12-31 23:59:59.999999635             N/A                      9.95   \n",
       "1975-12-31 23:59:59.999999635             N/A                     15.35   \n",
       "\n",
       "                              High Yield Corporate Bonds  \\\n",
       "Year                                                       \n",
       "1971-12-31 23:59:59.999999635                        N/A   \n",
       "1972-12-31 23:59:59.999999635                        N/A   \n",
       "1973-12-31 23:59:59.999999635                        N/A   \n",
       "1974-12-31 23:59:59.999999635                        N/A   \n",
       "1975-12-31 23:59:59.999999635                        N/A   \n",
       "\n",
       "                              Short-Term Tax-Exempt  \\\n",
       "Year                                                  \n",
       "1971-12-31 23:59:59.999999635                   N/A   \n",
       "1972-12-31 23:59:59.999999635                   N/A   \n",
       "1973-12-31 23:59:59.999999635                   N/A   \n",
       "1974-12-31 23:59:59.999999635                   N/A   \n",
       "1975-12-31 23:59:59.999999635                   N/A   \n",
       "\n",
       "                              Intermediate-Term Tax-Exempt  \\\n",
       "Year                                                         \n",
       "1971-12-31 23:59:59.999999635                          N/A   \n",
       "1972-12-31 23:59:59.999999635                          N/A   \n",
       "1973-12-31 23:59:59.999999635                          N/A   \n",
       "1974-12-31 23:59:59.999999635                          N/A   \n",
       "1975-12-31 23:59:59.999999635                          N/A   \n",
       "\n",
       "                              Long-Term Tax-Exempt REIT    Gold  \\\n",
       "Year                                                              \n",
       "1971-12-31 23:59:59.999999635                  N/A  N/A   49.02   \n",
       "1972-12-31 23:59:59.999999635                  N/A  N/A   72.96   \n",
       "1973-12-31 23:59:59.999999635                  N/A  N/A   66.15   \n",
       "1974-12-31 23:59:59.999999635                  N/A  N/A  -24.80   \n",
       "1975-12-31 23:59:59.999999635                  N/A  N/A   -4.10   \n",
       "\n",
       "                              Precious Metals Commodities  \n",
       "Year                                                       \n",
       "1971-12-31 23:59:59.999999635             N/A         N/A  \n",
       "1972-12-31 23:59:59.999999635             N/A         N/A  \n",
       "1973-12-31 23:59:59.999999635             N/A         N/A  \n",
       "1974-12-31 23:59:59.999999635             N/A         N/A  \n",
       "1975-12-31 23:59:59.999999635             N/A         N/A  \n",
       "\n",
       "[5 rows x 39 columns]"
      ]
     },
     "execution_count": 15,
     "metadata": {},
     "output_type": "execute_result"
    }
   ],
   "source": [
    "df_returns.head()"
   ]
  },
  {
   "cell_type": "markdown",
   "metadata": {},
   "source": [
    "We will also convert `N/A` values to 0."
   ]
  },
  {
   "cell_type": "code",
   "execution_count": 16,
   "metadata": {},
   "outputs": [],
   "source": [
    "df_returns = df_returns.apply(lambda x: x.str.replace('N/A', str(0)).astype(float))"
   ]
  },
  {
   "cell_type": "markdown",
   "metadata": {},
   "source": [
    "Now lets plot and see the results."
   ]
  },
  {
   "cell_type": "code",
   "execution_count": 17,
   "metadata": {},
   "outputs": [],
   "source": [
    "import matplotlib.pyplot as plt\n",
    "import seaborn as sns\n",
    "sns.set_style('whitegrid')"
   ]
  },
  {
   "cell_type": "code",
   "execution_count": 18,
   "metadata": {},
   "outputs": [
    {
     "data": {
      "text/plain": [
       "<matplotlib.axes._subplots.AxesSubplot at 0xa4a5b88>"
      ]
     },
     "execution_count": 18,
     "metadata": {},
     "output_type": "execute_result"
    },
    {
     "data": {
      "image/png": "[encoded data removed]",
      "text/plain": [
       "<Figure size 1080x720 with 1 Axes>"
      ]
     },
     "metadata": {},
     "output_type": "display_data"
    }
   ],
   "source": [
    "((df_returns[['US Stock Market', 'US Large Cap', 'US Mid Cap Growth', 'US Mid Cap Value', 'US Small Cap Value']] / 100) + 1).cumprod().plot(figsize=(15,10))"
   ]
  },
  {
   "cell_type": "markdown",
   "metadata": {},
   "source": [
    "We can see that small cap value stocks had the best performance from the above 5 asset classes."
   ]
  },
  {
   "cell_type": "code",
   "execution_count": null,
   "metadata": {},
   "outputs": [],
   "source": []
  }
 ],
 "metadata": {
  "kernelspec": {
   "display_name": "nlp_course",
   "language": "python",
   "name": "nlp_course"
  },
  "language_info": {
   "codemirror_mode": {
    "name": "ipython",
    "version": 3
   },
   "file_extension": ".py",
   "mimetype": "text/x-python",
   "name": "python",
   "nbconvert_exporter": "python",
   "pygments_lexer": "ipython3",
   "version": "3.7.6"
  }
 },
 "nbformat": 4,
 "nbformat_minor": 4
}
