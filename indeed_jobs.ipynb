{
 "cells": [
  {
   "cell_type": "code",
   "execution_count": 1,
   "metadata": {},
   "outputs": [],
   "source": [
    "from bs4 import BeautifulSoup\n",
    "import requests\n",
    "import pandas as pd\n",
    "import numpy as np\n",
    "import matplotlib.pyplot as plt\n",
    "import seaborn as sns"
   ]
  },
  {
   "cell_type": "markdown",
   "metadata": {},
   "source": [
    "Example HTML string"
   ]
  },
  {
   "cell_type": "markdown",
   "metadata": {},
   "source": [
    "#### Advanced Example\n",
    "\n",
    "##### Scraping data science skills from Indeed.com"
   ]
  },
  {
   "cell_type": "markdown",
   "metadata": {},
   "source": [
    "Get the website data."
   ]
  },
  {
   "cell_type": "code",
   "execution_count": 287,
   "metadata": {},
   "outputs": [],
   "source": [
    "from urllib.request import urlopen\n",
    "my_url = 'https://www.indeed.com/jobs?q=\"data+scientist\"&l=New+York%2C+NY'\n",
    "source = urlopen(my_url).read()\n",
    "\n",
    "soup = BeautifulSoup(source, 'lxml')"
   ]
  },
  {
   "cell_type": "markdown",
   "metadata": {},
   "source": [
    "Find out how many jobs are listed on Indeed."
   ]
  },
  {
   "cell_type": "code",
   "execution_count": 288,
   "metadata": {
    "scrolled": false
   },
   "outputs": [
    {
     "data": {
      "text/plain": [
       "'Page 1 of 868 jobs'"
      ]
     },
     "execution_count": 288,
     "metadata": {},
     "output_type": "execute_result"
    }
   ],
   "source": [
    "soup.find(id='searchCountPages').contents[0].strip()"
   ]
  },
  {
   "cell_type": "code",
   "execution_count": 289,
   "metadata": {},
   "outputs": [
    {
     "name": "stdout",
     "output_type": "stream",
     "text": [
      "There are 868 Data Scientits jobs listed on Indeed.com in New York City\n"
     ]
    }
   ],
   "source": [
    "num_of_jobs = soup.find(id='searchCountPages').contents[0].strip().split()[-2]\n",
    "num_of_jobs = int(num_of_jobs.replace(',',''))\n",
    "\n",
    "print(f\"There are {num_of_jobs} Data Scientits jobs listed on Indeed.com in New York City\")"
   ]
  },
  {
   "cell_type": "markdown",
   "metadata": {},
   "source": [
    "The website lists only 10 jobs per page. We will get all the listing."
   ]
  },
  {
   "cell_type": "code",
   "execution_count": 291,
   "metadata": {},
   "outputs": [],
   "source": [
    "import time\n",
    "\n",
    "def get_indeed():\n",
    "\n",
    "    num_pages = int(np.ceil(num_of_jobs)/10)\n",
    "    \n",
    "    base_url = \"http://www.indeed.com\"\n",
    "\n",
    "\n",
    "    # We will get results for only first 20 pages\n",
    "    for i in range(num_pages):\n",
    "\n",
    "        url = 'https://www.indeed.com/jobs?q=\"data+scientist\"&l=New+York%2C+NY&start=' + str(i*10)\n",
    "\n",
    "        html_page = requests.get(url).text\n",
    "        soup = BeautifulSoup(html_page)\n",
    "        job_link_area = soup.find(id = 'resultsCol')\n",
    "        job_postings = job_link_area.find_all('div')\n",
    "        _blank = []\n",
    "        for jp in job_postings:\n",
    "            if jp.get('class'):\n",
    "                _ = jp.find('a', class_ = \"jobtitle turnstileLink \")\n",
    "                _blank.append((_))\n",
    "                \n",
    "        _title = []\n",
    "        _links = []\n",
    "        for ix in _blank:\n",
    "            if ix != None:\n",
    "                _title.append(ix.text)\n",
    "                _links.append(ix['href'])\n",
    "                \n",
    "        _title = [t.strip() for t in _title]\n",
    "        _links = [i for i in _links if i[:8] != '/pagead/']\n",
    "        \n",
    "        _title = list(set(_title))\n",
    "        _links = list(set(_links))\n",
    "        _links = [str(\"https://www.indeed.com\") + i for i in _links]\n",
    "        \n",
    "        title.append(_title)\n",
    "        links.append(_links)\n",
    "        \n",
    "        sleep = np.random.randint(low = 1, high = 4, size = 1)\n",
    "        \n",
    "        print(f\"Finished gathering data for page {i}\")\n",
    "                \n",
    "        time.sleep(sleep)\n",
    "                \n",
    "            \n",
    "            \n",
    "\n",
    "    \n",
    "    "
   ]
  },
  {
   "cell_type": "code",
   "execution_count": 292,
   "metadata": {
    "scrolled": false
   },
   "outputs": [
    {
     "name": "stdout",
     "output_type": "stream",
     "text": [
      "Finished gathering data for page 0\n",
      "Finished gathering data for page 1\n",
      "Finished gathering data for page 2\n",
      "Finished gathering data for page 3\n",
      "Finished gathering data for page 4\n",
      "Finished gathering data for page 5\n",
      "Finished gathering data for page 6\n",
      "Finished gathering data for page 7\n",
      "Finished gathering data for page 8\n",
      "Finished gathering data for page 9\n",
      "Finished gathering data for page 10\n",
      "Finished gathering data for page 11\n",
      "Finished gathering data for page 12\n",
      "Finished gathering data for page 13\n",
      "Finished gathering data for page 14\n",
      "Finished gathering data for page 15\n",
      "Finished gathering data for page 16\n",
      "Finished gathering data for page 17\n",
      "Finished gathering data for page 18\n",
      "Finished gathering data for page 19\n",
      "Finished gathering data for page 20\n",
      "Finished gathering data for page 21\n",
      "Finished gathering data for page 22\n",
      "Finished gathering data for page 23\n",
      "Finished gathering data for page 24\n",
      "Finished gathering data for page 25\n",
      "Finished gathering data for page 26\n",
      "Finished gathering data for page 27\n",
      "Finished gathering data for page 28\n",
      "Finished gathering data for page 29\n",
      "Finished gathering data for page 30\n",
      "Finished gathering data for page 31\n",
      "Finished gathering data for page 32\n",
      "Finished gathering data for page 33\n",
      "Finished gathering data for page 34\n",
      "Finished gathering data for page 35\n",
      "Finished gathering data for page 36\n",
      "Finished gathering data for page 37\n",
      "Finished gathering data for page 38\n",
      "Finished gathering data for page 39\n",
      "Finished gathering data for page 40\n",
      "Finished gathering data for page 41\n",
      "Finished gathering data for page 42\n",
      "Finished gathering data for page 43\n",
      "Finished gathering data for page 44\n",
      "Finished gathering data for page 45\n",
      "Finished gathering data for page 46\n",
      "Finished gathering data for page 47\n",
      "Finished gathering data for page 48\n",
      "Finished gathering data for page 49\n",
      "Finished gathering data for page 50\n",
      "Finished gathering data for page 51\n",
      "Finished gathering data for page 52\n",
      "Finished gathering data for page 53\n",
      "Finished gathering data for page 54\n",
      "Finished gathering data for page 55\n",
      "Finished gathering data for page 56\n",
      "Finished gathering data for page 57\n",
      "Finished gathering data for page 58\n",
      "Finished gathering data for page 59\n",
      "Finished gathering data for page 60\n",
      "Finished gathering data for page 61\n",
      "Finished gathering data for page 62\n",
      "Finished gathering data for page 63\n",
      "Finished gathering data for page 64\n",
      "Finished gathering data for page 65\n",
      "Finished gathering data for page 66\n",
      "Finished gathering data for page 67\n",
      "Finished gathering data for page 68\n",
      "Finished gathering data for page 69\n",
      "Finished gathering data for page 70\n",
      "Finished gathering data for page 71\n",
      "Finished gathering data for page 72\n",
      "Finished gathering data for page 73\n",
      "Finished gathering data for page 74\n",
      "Finished gathering data for page 75\n",
      "Finished gathering data for page 76\n",
      "Finished gathering data for page 77\n",
      "Finished gathering data for page 78\n",
      "Finished gathering data for page 79\n",
      "Finished gathering data for page 80\n",
      "Finished gathering data for page 81\n",
      "Finished gathering data for page 82\n",
      "Finished gathering data for page 83\n",
      "Finished gathering data for page 84\n",
      "Finished gathering data for page 85\n"
     ]
    }
   ],
   "source": [
    "title = []\n",
    "links = []\n",
    "get_indeed()"
   ]
  },
  {
   "cell_type": "code",
   "execution_count": 293,
   "metadata": {},
   "outputs": [],
   "source": [
    "def flatten(your_list):\n",
    "\n",
    "  flat_list = []\n",
    "  \n",
    "  for sublist in your_list:\n",
    "    for item in sublist:\n",
    "      flat_list.append(item)\n",
    "  return flat_list\n",
    "\n"
   ]
  },
  {
   "cell_type": "code",
   "execution_count": 298,
   "metadata": {},
   "outputs": [],
   "source": [
    "flat_links = flatten(links)\n",
    "flat_title = flatten(title)"
   ]
  },
  {
   "cell_type": "code",
   "execution_count": 305,
   "metadata": {},
   "outputs": [
    {
     "data": {
      "text/plain": [
       "'E:\\\\Documents\\\\Learning\\\\CS109_Harvard'"
      ]
     },
     "execution_count": 305,
     "metadata": {},
     "output_type": "execute_result"
    }
   ],
   "source": [
    "pwd"
   ]
  },
  {
   "cell_type": "code",
   "execution_count": 308,
   "metadata": {},
   "outputs": [],
   "source": [
    "links_df = pd.DataFrame({'links':flat_links})\n",
    "\n",
    "#Saving Links\n",
    "#Uncomment this if you want to save the data\n",
    "#links_df.to_csv('indeed_links.csv',index=False)"
   ]
  },
  {
   "cell_type": "code",
   "execution_count": null,
   "metadata": {},
   "outputs": [],
   "source": [
    "skill_set = {'Python': 0, 'R': 0, 'SQL':0, 'Java':0, 'C++':0, 'Scala':0}\n",
    "count = 0\n",
    "#Trying for first 100 jobs\n",
    "for i in flat_links[:101]:\n",
    "    \n",
    "    try:\n",
    "        html_page = requests.get(i).text\n",
    "    except requests.HTTPError:\n",
    "        print('HTTPError')\n",
    "    except requests.ConnectionError:\n",
    "        print('ConnectionError')\n",
    "    except requests.ConnectTimeout:\n",
    "        print('ConnectTimeout')\n",
    "    except requests.Timeout:\n",
    "        print('Timeout')\n",
    "        \n",
    "        continue\n",
    "        \n",
    "    soup = BeautifulSoup(html_page, 'lxml')\n",
    "    job_descr = soup.find('div', class_=\"jobsearch-jobDescriptionText\").text.strip()\n",
    "    \n",
    "    for key in skill_set.keys():\n",
    "        if key in job_descr:  \n",
    "            skill_set[key] +=1\n",
    "            \n",
    "    sleep = np.random.randint(low = 2, high = 5, size = 1)\n",
    "    \n",
    "    print(f\"Finished getting data for {count+1} job!\")\n",
    "    count += 1\n",
    "    time.sleep(sleep)\n",
    "            "
   ]
  },
  {
   "cell_type": "code",
   "execution_count": 316,
   "metadata": {},
   "outputs": [
    {
     "data": {
      "text/plain": [
       "{'C++': 6, 'Java': 17, 'Python': 87, 'R': 97, 'SQL': 66, 'Scala': 13}"
      ]
     },
     "execution_count": 316,
     "metadata": {},
     "output_type": "execute_result"
    }
   ],
   "source": [
    "skill_set"
   ]
  },
  {
   "cell_type": "code",
   "execution_count": 326,
   "metadata": {},
   "outputs": [
    {
     "data": {
      "image/png": "[encoded data removed]",
      "text/plain": [
       "<Figure size 432x288 with 1 Axes>"
      ]
     },
     "metadata": {},
     "output_type": "display_data"
    }
   ],
   "source": [
    "import seaborn as sns\n",
    "sns.set_style('whitegrid') \n",
    "\n",
    "skill_series = pd.Series(skill_set)\n",
    "skill_series.sort_values(ascending=False).plot(kind = 'bar')\n",
    "plt.title('Data Science Skills')\n",
    "plt.xlabel('Skills')\n",
    "plt.ylabel('Count')\n",
    "plt.show()"
   ]
  },
  {
   "cell_type": "code",
   "execution_count": null,
   "metadata": {},
   "outputs": [],
   "source": []
  }
 ],
 "metadata": {
  "kernelspec": {
   "display_name": "Python 3",
   "language": "python",
   "name": "python3"
  },
  "language_info": {
   "codemirror_mode": {
    "name": "ipython",
    "version": 3
   },
   "file_extension": ".py",
   "mimetype": "text/x-python",
   "name": "python",
   "nbconvert_exporter": "python",
   "pygments_lexer": "ipython3",
   "version": "3.6.5"
  }
 },
 "nbformat": 4,
 "nbformat_minor": 2
}
