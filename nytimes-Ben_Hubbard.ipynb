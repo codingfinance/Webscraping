{
 "cells": [
  {
   "cell_type": "code",
   "execution_count": 1,
   "metadata": {},
   "outputs": [],
   "source": [
    "from bs4 import BeautifulSoup\n",
    "from selenium import webdriver\n",
    "\n",
    "import pandas as pd\n",
    "import numpy as np"
   ]
  },
  {
   "cell_type": "code",
   "execution_count": 3,
   "metadata": {},
   "outputs": [],
   "source": [
    "driver = webdriver.Firefox()"
   ]
  },
  {
   "cell_type": "code",
   "execution_count": 4,
   "metadata": {},
   "outputs": [],
   "source": [
    "driver.get(\"https://www.nytimes.com/by/ben-hubbard\")"
   ]
  },
  {
   "cell_type": "code",
   "execution_count": 16,
   "metadata": {},
   "outputs": [],
   "source": [
    "elem = driver.find_element_by_css_selector(\".css-1stvaey > button:nth-child(1)\")"
   ]
  },
  {
   "cell_type": "code",
   "execution_count": 17,
   "metadata": {},
   "outputs": [],
   "source": [
    "elem.click()"
   ]
  },
  {
   "cell_type": "code",
   "execution_count": 26,
   "metadata": {},
   "outputs": [],
   "source": [
    "soup = BeautifulSoup(driver.page_source, \"lxml\")"
   ]
  },
  {
   "cell_type": "code",
   "execution_count": 27,
   "metadata": {},
   "outputs": [],
   "source": [
    "headlines = []\n",
    "\n",
    "for i in soup.select(\".e1xfvim30\"):\n",
    "    headlines.append(i.text)"
   ]
  },
  {
   "cell_type": "code",
   "execution_count": 28,
   "metadata": {},
   "outputs": [
    {
     "data": {
      "text/plain": [
       "['MBS: The Rise of a Saudi Prince',\n",
       " 'The Rise and Fall of M.B.S.’s Digital Henchman',\n",
       " '‘MBS’ Chronicles the Shockingly Young, Powerful and Ruthless Saudi Crown Prince',\n",
       " 'Roundup of Saudi Royals Expands With Detention of a 4th Prince',\n",
       " 'Saudi Prince Detains Senior Members of Royal Family',\n",
       " 'A Muted Arab Response to Trump’s Mideast Peace Plan',\n",
       " 'Someone Tried to Hack My Phone. Technology Researchers Accused Saudi Arabia.',\n",
       " 'Bezos Phone Hack Tied to Saudi Crown Prince Puts New Pressure on Kingdom',\n",
       " 'Lebanon Names New Cabinet Amid Political and Economic Crisis',\n",
       " 'Iran Admits Firing 2 Missiles at Jet and Says It’s Studying Effect']"
      ]
     },
     "execution_count": 28,
     "metadata": {},
     "output_type": "execute_result"
    }
   ],
   "source": [
    "headlines[:10]"
   ]
  },
  {
   "cell_type": "code",
   "execution_count": 29,
   "metadata": {},
   "outputs": [],
   "source": [
    "links = []\n",
    "\n",
    "for i in soup.find_all('li', class_ = \"css-ye6x8s\"):\n",
    "    j = i.find_all('a', href = True)\n",
    "    for k in j:\n",
    "        links.append(k['href'])"
   ]
  },
  {
   "cell_type": "code",
   "execution_count": 30,
   "metadata": {},
   "outputs": [
    {
     "data": {
      "text/plain": [
       "['/2020/03/21/world/middleeast/mohammed-bin-salman-saudi-arabia.html',\n",
       " '/2020/03/13/sunday-review/mbs-hacking.html',\n",
       " '/2020/03/09/books/review/mbs-the-rise-to-power-of-mohammed-bin-salman-ben-hubbard.html',\n",
       " '/2020/03/07/world/middleeast/saudi-arabia-mohammed-bin-salman.html',\n",
       " '/2020/03/06/world/middleeast/saudi-royal-arrest.html',\n",
       " '/2020/01/28/world/middleeast/arabs-reaction-trump-mideast-peace-plan.html',\n",
       " '/2020/01/28/reader-center/phone-hacking-saudi-arabia.html',\n",
       " '/2020/01/22/world/middleeast/bezos-phone-hacked.html',\n",
       " '/2020/01/21/world/middleeast/lebanon-names-new-cabinet.html',\n",
       " '/2020/01/21/world/middleeast/iran-plane-crash-missiles.html']"
      ]
     },
     "execution_count": 30,
     "metadata": {},
     "output_type": "execute_result"
    }
   ],
   "source": [
    "links[:10]"
   ]
  },
  {
   "cell_type": "code",
   "execution_count": 32,
   "metadata": {},
   "outputs": [
    {
     "data": {
      "text/plain": [
       "70"
      ]
     },
     "execution_count": 32,
     "metadata": {},
     "output_type": "execute_result"
    }
   ],
   "source": [
    "len(headlines)"
   ]
  },
  {
   "cell_type": "code",
   "execution_count": 33,
   "metadata": {},
   "outputs": [
    {
     "data": {
      "text/plain": [
       "76"
      ]
     },
     "execution_count": 33,
     "metadata": {},
     "output_type": "execute_result"
    }
   ],
   "source": [
    "len(links)"
   ]
  },
  {
   "cell_type": "code",
   "execution_count": 34,
   "metadata": {},
   "outputs": [
    {
     "data": {
      "text/plain": [
       "['/2020/03/21/world/middleeast/mohammed-bin-salman-saudi-arabia.html',\n",
       " '/2020/03/13/sunday-review/mbs-hacking.html',\n",
       " '/2020/03/09/books/review/mbs-the-rise-to-power-of-mohammed-bin-salman-ben-hubbard.html',\n",
       " '/2020/03/07/world/middleeast/saudi-arabia-mohammed-bin-salman.html',\n",
       " '/2020/03/06/world/middleeast/saudi-royal-arrest.html',\n",
       " '/2020/01/28/world/middleeast/arabs-reaction-trump-mideast-peace-plan.html',\n",
       " '/2020/01/28/reader-center/phone-hacking-saudi-arabia.html',\n",
       " '/2020/01/22/world/middleeast/bezos-phone-hacked.html',\n",
       " '/2020/01/21/world/middleeast/lebanon-names-new-cabinet.html',\n",
       " '/2020/01/21/world/middleeast/iran-plane-crash-missiles.html',\n",
       " '/2020/01/19/world/middleeast/yemen-military-base-attack.html',\n",
       " '/2020/01/18/world/middleeast/clashes-shake-beirut-as-anti-government-protests-explode-in-violence.html',\n",
       " '/2020/01/17/world/middleeast/iran-ayatollah-khamenei-Friday.html',\n",
       " '/2020/01/16/world/middleeast/saudi-fitaihi-trial.html',\n",
       " '/2020/01/13/world/middleeast/iran-plane-crash-missile.html',\n",
       " '/2020/01/11/world/middleeast/oman-sultan.html',\n",
       " '/2020/01/10/world/middleeast/sultan-qaboos-79-is-dead-built-oman-into-prosperous-oasis-of-peacemaking.html',\n",
       " '/es/2020/01/06/espanol/mundo/muerte-suleimani.html',\n",
       " 'https://www.nytimes.com/2020/01/03/obituaries/qassem-soleimani-dead.html',\n",
       " '/2020/01/05/world/middleeast/mideast-allies-suleimani.html',\n",
       " '/2020/01/05/world/middleeast/iran-general-soleimani-iraq.html',\n",
       " 'https://cn.nytimes.com/world/20200106/iran-general-soleimani-iraq/',\n",
       " 'https://cn.nytimes.com/world/20200106/iran-general-soleimani-iraq/zh-hant/',\n",
       " '/2020/01/04/world/middleeast/iraq-funeral-general-soleimani-al-muhandis.html',\n",
       " '/2020/01/03/world/middleeast/us-iraq.html',\n",
       " '/2020/01/03/obituaries/qassem-soleimani-dead.html',\n",
       " 'https://www.nytimes.com/es/2020/01/06/espanol/mundo/muerte-suleimani.html',\n",
       " '/2019/12/31/world/middleeast/baghdad-protesters-us-embassy.html',\n",
       " '/2019/12/30/world/middleeast/iraq-airstrikes-us-iran-militias.html',\n",
       " '/2019/12/26/world/middleeast/saudi-iran-qatar-talks.html',\n",
       " '/2019/12/23/world/middleeast/jamal-khashoggi-murder-sentence.html',\n",
       " '/2019/12/19/world/middleeast/lebanon-prime-minister-hassan-diab.html',\n",
       " '/2019/11/15/world/middleeast/lebanon-protests-economy.html',\n",
       " '/2019/11/07/world/middleeast/saudi-arabia-twitter-arrests.html',\n",
       " '/es/2019/10/29/espanol/mundo/kurdos-estados-unidos-trump.html',\n",
       " 'https://www.nytimes.com/2019/10/28/world/middleeast/isis-kurds-baghdadi.html',\n",
       " '/2019/10/28/world/middleeast/isis-kurds-baghdadi.html',\n",
       " 'https://www.nytimes.com/es/2019/10/29/espanol/mundo/kurdos-estados-unidos-trump.html',\n",
       " '/2019/10/27/world/middleeast/al-baghdadi-successor-reported-killed.html',\n",
       " '/2019/10/27/world/middleeast/isis-leader-dead-impact.html',\n",
       " '/2019/10/23/world/middleeast/what-is-going-to-happen-to-us-inside-isis-prison-children-ask-their-fate.html',\n",
       " '/2019/10/21/world/middleeast/us-withdrawal-syria-iraq.html',\n",
       " '/2019/10/20/world/middleeast/pelosi-syria-turkey-jordan.html',\n",
       " '/2019/10/18/world/middleeast/kurds-sense-of-betrayal-compounded-by-empowerment-of-unsavory-rivals.html',\n",
       " '/2019/10/16/world/middleeast/turkey-kurds-syria.html',\n",
       " '/2019/10/15/world/middleeast/kurds-syria-turkey.html',\n",
       " '/2019/10/14/world/europe/syria-us-assad-kurds-turkey.html',\n",
       " '/2019/10/13/world/middleeast/kurds-syria-turkey-trump.html',\n",
       " '/2019/10/13/world/middleeast/syria-turkey-invasion-isis.html',\n",
       " '/2019/10/12/world/middleeast/trumps-abandonment-of-the-kurds-in-syria-has-other-allies-worried.html',\n",
       " '/2019/10/12/world/middleeast/turkey-invasion-syria-kurds.html',\n",
       " '/2019/10/09/world/middleeast/turkey-attacks-syria.html',\n",
       " '/2019/10/08/world/middleeast/syria-turkey-kurds-us.html',\n",
       " '/2019/10/07/world/middleeast/trump-turkey-syria-kurds.html',\n",
       " '/2019/10/07/world/middleeast/turkey-syria.html',\n",
       " '/2019/10/07/us/politics/trump-turkey-syria.html',\n",
       " '/2019/10/04/world/middleeast/saudi-arabia-iran-talks.html',\n",
       " '/2019/10/02/world/middleeast/khashoggi-killing-mbs-anniversary.html',\n",
       " '/2019/10/01/world/europe/trump-impeachment-ukraine-reaction.html',\n",
       " '/2019/09/30/world/middleeast/lebanon-hariri-model.html',\n",
       " '/2019/09/29/world/middleeast/saudi-bodyguard-shooting.html',\n",
       " '/2019/09/28/world/middleeast/syria-war.html',\n",
       " '/2019/09/26/world/middleeast/mbs-khashoggi-killing-responsibility.html',\n",
       " '/2019/09/19/world/middleeast/saudi-iran-attack-oil.html',\n",
       " '/2019/09/19/world/middleeast/tunisia-ben-ali-dead.html',\n",
       " '/2019/09/18/world/middleeast/us-iran-saudi-arabia.html',\n",
       " '/2019/09/17/world/middleeast/tunisia-election-president.html',\n",
       " '/2019/09/15/world/middleeast/tunisia-presidential-election.html',\n",
       " '/2019/09/15/world/middleeast/lebanon-weddings.html',\n",
       " '/2019/09/14/world/middleeast/saudi-arabia-refineries-drone-attack.html',\n",
       " '/2019/09/10/world/middleeast/netanyahu-palestinians-arabs-west-bank.html',\n",
       " '/2019/09/09/world/middleeast/iran-oil-tanker-syria.html',\n",
       " '/2019/09/08/world/middleeast/saudi-arabia-abdulaziz-energy-minister.html',\n",
       " '/2019/09/07/world/middleeast/iran-oil-tanker-syria.html',\n",
       " '/2019/08/28/world/middleeast/israel-iran-shadow-war.html',\n",
       " '/2019/08/26/world/middleeast/lebanon-israel-attack.html']"
      ]
     },
     "execution_count": 34,
     "metadata": {},
     "output_type": "execute_result"
    }
   ],
   "source": [
    "links"
   ]
  },
  {
   "cell_type": "code",
   "execution_count": null,
   "metadata": {},
   "outputs": [],
   "source": []
  }
 ],
 "metadata": {
  "kernelspec": {
   "display_name": "Python 3",
   "language": "python",
   "name": "python3"
  },
  "language_info": {
   "codemirror_mode": {
    "name": "ipython",
    "version": 3
   },
   "file_extension": ".py",
   "mimetype": "text/x-python",
   "name": "python",
   "nbconvert_exporter": "python",
   "pygments_lexer": "ipython3",
   "version": "3.7.5"
  }
 },
 "nbformat": 4,
 "nbformat_minor": 2
}
