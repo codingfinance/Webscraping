{
  "nbformat": 4,
  "nbformat_minor": 0,
  "metadata": {
    "colab": {
      "name": "nytimes_selenium_colab",
      "provenance": []
    },
    "kernelspec": {
      "name": "python3",
      "display_name": "Python 3"
    }
  },
  "cells": [
    {
      "cell_type": "markdown",
      "metadata": {
        "id": "7XkI89zVf0Do",
        "colab_type": "text"
      },
      "source": [
        "Import all modules"
      ]
    },
    {
      "cell_type": "code",
      "metadata": {
        "id": "it5CWo7lw3xM",
        "colab_type": "code",
        "colab": {}
      },
      "source": [
        "from bs4 import BeautifulSoup\n",
        "import pandas as pd\n",
        "import numpy as np\n",
        "import matplotlib.pyplot as plt\n",
        "import requests"
      ],
      "execution_count": 0,
      "outputs": []
    },
    {
      "cell_type": "code",
      "metadata": {
        "id": "YfKpZQSPdncD",
        "colab_type": "code",
        "colab": {}
      },
      "source": [
        "import sys"
      ],
      "execution_count": 0,
      "outputs": []
    },
    {
      "cell_type": "code",
      "metadata": {
        "id": "BZJPxHjBdwZx",
        "colab_type": "code",
        "colab": {
          "base_uri": "https://localhost:8080/",
          "height": 35
        },
        "outputId": "62190007-b174-47ee-aedd-360bd78846cd"
      },
      "source": [
        "sys.executable"
      ],
      "execution_count": 3,
      "outputs": [
        {
          "output_type": "execute_result",
          "data": {
            "text/plain": [
              "'/usr/bin/python3'"
            ]
          },
          "metadata": {
            "tags": []
          },
          "execution_count": 3
        }
      ]
    },
    {
      "cell_type": "markdown",
      "metadata": {
        "id": "pknjVL9df4pV",
        "colab_type": "text"
      },
      "source": [
        "Install Selenium."
      ]
    },
    {
      "cell_type": "code",
      "metadata": {
        "id": "tRE5nHNrdyNQ",
        "colab_type": "code",
        "colab": {
          "base_uri": "https://localhost:8080/",
          "height": 1000
        },
        "outputId": "44fbfd15-7a75-4c9e-db59-ca25f92aa436"
      },
      "source": [
        "!apt-get update # to update ubuntu to correctly run apt install\n",
        "!apt install chromium-chromedriver\n",
        "!cp /usr/lib/chromium-browser/chromedriver /usr/bin"
      ],
      "execution_count": 7,
      "outputs": [
        {
          "output_type": "stream",
          "text": [
            "Get:1 https://cloud.r-project.org/bin/linux/ubuntu bionic-cran35/ InRelease [3,626 B]\n",
            "Ign:2 https://developer.download.nvidia.com/compute/cuda/repos/ubuntu1804/x86_64  InRelease\n",
            "Get:3 http://security.ubuntu.com/ubuntu bionic-security InRelease [88.7 kB]\n",
            "Ign:4 https://developer.download.nvidia.com/compute/machine-learning/repos/ubuntu1804/x86_64  InRelease\n",
            "Hit:5 http://ppa.launchpad.net/graphics-drivers/ppa/ubuntu bionic InRelease\n",
            "Hit:6 https://developer.download.nvidia.com/compute/cuda/repos/ubuntu1804/x86_64  Release\n",
            "Hit:7 https://developer.download.nvidia.com/compute/machine-learning/repos/ubuntu1804/x86_64  Release\n",
            "Hit:8 http://archive.ubuntu.com/ubuntu bionic InRelease\n",
            "Get:10 http://archive.ubuntu.com/ubuntu bionic-updates InRelease [88.7 kB]\n",
            "Get:11 http://ppa.launchpad.net/marutter/c2d4u3.5/ubuntu bionic InRelease [15.4 kB]\n",
            "Get:13 http://security.ubuntu.com/ubuntu bionic-security/restricted amd64 Packages [35.2 kB]\n",
            "Get:14 http://security.ubuntu.com/ubuntu bionic-security/main amd64 Packages [861 kB]\n",
            "Get:15 http://archive.ubuntu.com/ubuntu bionic-backports InRelease [74.6 kB]\n",
            "Get:16 http://ppa.launchpad.net/marutter/c2d4u3.5/ubuntu bionic/main Sources [1,784 kB]\n",
            "Get:17 http://archive.ubuntu.com/ubuntu bionic-updates/restricted amd64 Packages [48.7 kB]\n",
            "Get:18 http://archive.ubuntu.com/ubuntu bionic-updates/main amd64 Packages [1,155 kB]\n",
            "Get:19 http://security.ubuntu.com/ubuntu bionic-security/universe amd64 Packages [832 kB]\n",
            "Get:20 http://archive.ubuntu.com/ubuntu bionic-updates/universe amd64 Packages [1,362 kB]\n",
            "Get:21 http://archive.ubuntu.com/ubuntu bionic-backports/universe amd64 Packages [4,247 B]\n",
            "Get:22 http://ppa.launchpad.net/marutter/c2d4u3.5/ubuntu bionic/main amd64 Packages [861 kB]\n",
            "Fetched 7,214 kB in 6s (1,156 kB/s)\n",
            "Reading package lists... Done\n",
            "Reading package lists... Done\n",
            "Building dependency tree       \n",
            "Reading state information... Done\n",
            "The following additional packages will be installed:\n",
            "  chromium-browser chromium-browser-l10n chromium-codecs-ffmpeg-extra\n",
            "Suggested packages:\n",
            "  webaccounts-chromium-extension unity-chromium-extension adobe-flashplugin\n",
            "The following NEW packages will be installed:\n",
            "  chromium-browser chromium-browser-l10n chromium-chromedriver\n",
            "  chromium-codecs-ffmpeg-extra\n",
            "0 upgraded, 4 newly installed, 0 to remove and 35 not upgraded.\n",
            "Need to get 74.4 MB of archives.\n",
            "After this operation, 264 MB of additional disk space will be used.\n",
            "Get:1 http://archive.ubuntu.com/ubuntu bionic-updates/universe amd64 chromium-codecs-ffmpeg-extra amd64 80.0.3987.87-0ubuntu0.18.04.1 [1,095 kB]\n",
            "Get:2 http://archive.ubuntu.com/ubuntu bionic-updates/universe amd64 chromium-browser amd64 80.0.3987.87-0ubuntu0.18.04.1 [66.1 MB]\n",
            "Get:3 http://archive.ubuntu.com/ubuntu bionic-updates/universe amd64 chromium-browser-l10n all 80.0.3987.87-0ubuntu0.18.04.1 [3,155 kB]\n",
            "Get:4 http://archive.ubuntu.com/ubuntu bionic-updates/universe amd64 chromium-chromedriver amd64 80.0.3987.87-0ubuntu0.18.04.1 [4,044 kB]\n",
            "Fetched 74.4 MB in 9s (8,020 kB/s)\n",
            "Selecting previously unselected package chromium-codecs-ffmpeg-extra.\n",
            "(Reading database ... 133872 files and directories currently installed.)\n",
            "Preparing to unpack .../chromium-codecs-ffmpeg-extra_80.0.3987.87-0ubuntu0.18.04.1_amd64.deb ...\n",
            "Unpacking chromium-codecs-ffmpeg-extra (80.0.3987.87-0ubuntu0.18.04.1) ...\n",
            "Selecting previously unselected package chromium-browser.\n",
            "Preparing to unpack .../chromium-browser_80.0.3987.87-0ubuntu0.18.04.1_amd64.deb ...\n",
            "Unpacking chromium-browser (80.0.3987.87-0ubuntu0.18.04.1) ...\n",
            "Selecting previously unselected package chromium-browser-l10n.\n",
            "Preparing to unpack .../chromium-browser-l10n_80.0.3987.87-0ubuntu0.18.04.1_all.deb ...\n",
            "Unpacking chromium-browser-l10n (80.0.3987.87-0ubuntu0.18.04.1) ...\n",
            "Selecting previously unselected package chromium-chromedriver.\n",
            "Preparing to unpack .../chromium-chromedriver_80.0.3987.87-0ubuntu0.18.04.1_amd64.deb ...\n",
            "Unpacking chromium-chromedriver (80.0.3987.87-0ubuntu0.18.04.1) ...\n",
            "Setting up chromium-codecs-ffmpeg-extra (80.0.3987.87-0ubuntu0.18.04.1) ...\n",
            "Setting up chromium-browser (80.0.3987.87-0ubuntu0.18.04.1) ...\n",
            "update-alternatives: using /usr/bin/chromium-browser to provide /usr/bin/x-www-browser (x-www-browser) in auto mode\n",
            "update-alternatives: using /usr/bin/chromium-browser to provide /usr/bin/gnome-www-browser (gnome-www-browser) in auto mode\n",
            "Setting up chromium-chromedriver (80.0.3987.87-0ubuntu0.18.04.1) ...\n",
            "Setting up chromium-browser-l10n (80.0.3987.87-0ubuntu0.18.04.1) ...\n",
            "Processing triggers for hicolor-icon-theme (0.17-2) ...\n",
            "Processing triggers for mime-support (3.60ubuntu1) ...\n",
            "Processing triggers for man-db (2.8.3-2ubuntu0.1) ...\n",
            "cp: '/usr/lib/chromium-browser/chromedriver' and '/usr/bin/chromedriver' are the same file\n"
          ],
          "name": "stdout"
        }
      ]
    },
    {
      "cell_type": "code",
      "metadata": {
        "id": "fLzy6CEKgQu8",
        "colab_type": "code",
        "colab": {}
      },
      "source": [
        "from selenium import webdriver"
      ],
      "execution_count": 0,
      "outputs": []
    },
    {
      "cell_type": "markdown",
      "metadata": {
        "id": "Hk73eSEgf8it",
        "colab_type": "text"
      },
      "source": [
        "Use the below options to make chrome browser headless."
      ]
    },
    {
      "cell_type": "code",
      "metadata": {
        "id": "Q1KiphbTdz8i",
        "colab_type": "code",
        "colab": {
          "base_uri": "https://localhost:8080/",
          "height": 54
        },
        "outputId": "7bb94a55-8e56-4c56-d777-97234c9a4f80"
      },
      "source": [
        "chrome_options = webdriver.ChromeOptions()\n",
        "chrome_options.add_argument('--headless')\n",
        "chrome_options.add_argument('--no-sandbox')\n",
        "chrome_options.add_argument('--disable-dev-shm-usage')\n",
        "wd = webdriver.Chrome('chromedriver',chrome_options=chrome_options)"
      ],
      "execution_count": 6,
      "outputs": [
        {
          "output_type": "stream",
          "text": [
            "/usr/local/lib/python3.6/dist-packages/ipykernel_launcher.py:5: DeprecationWarning: use options instead of chrome_options\n",
            "  \"\"\"\n"
          ],
          "name": "stderr"
        }
      ]
    },
    {
      "cell_type": "markdown",
      "metadata": {
        "id": "gKUtVKVvgCe8",
        "colab_type": "text"
      },
      "source": [
        "Get the website"
      ]
    },
    {
      "cell_type": "code",
      "metadata": {
        "id": "K6qquXMce2vS",
        "colab_type": "code",
        "colab": {}
      },
      "source": [
        "wd.get(\"https://www.nytimes.com/by/maggie-haberman\")"
      ],
      "execution_count": 0,
      "outputs": []
    },
    {
      "cell_type": "code",
      "metadata": {
        "id": "vVMjyekjfGcZ",
        "colab_type": "code",
        "colab": {}
      },
      "source": [
        "elem = wd.find_element_by_css_selector(\".css-1stvaey > button:nth-child(1)\")\n",
        "elem.click()"
      ],
      "execution_count": 0,
      "outputs": []
    },
    {
      "cell_type": "code",
      "metadata": {
        "id": "bzeE8EU_fK3T",
        "colab_type": "code",
        "colab": {}
      },
      "source": [
        "soup = BeautifulSoup(wd.page_source, \"lxml\")"
      ],
      "execution_count": 0,
      "outputs": []
    },
    {
      "cell_type": "code",
      "metadata": {
        "id": "tsQvuvXyfMDX",
        "colab_type": "code",
        "colab": {}
      },
      "source": [
        "headlines = []\n",
        "\n",
        "for i in soup.select(\".e1xfvim30\"):\n",
        "    headlines.append(i.text)"
      ],
      "execution_count": 0,
      "outputs": []
    },
    {
      "cell_type": "code",
      "metadata": {
        "id": "vAX_xQg5fTB8",
        "colab_type": "code",
        "colab": {
          "base_uri": "https://localhost:8080/",
          "height": 935
        },
        "outputId": "4be5863f-f002-4a1a-96f9-dc6ab3043a24"
      },
      "source": [
        "headlines"
      ],
      "execution_count": 15,
      "outputs": [
        {
          "output_type": "execute_result",
          "data": {
            "text/plain": [
              "['Oracle Providing White House With Software to Study Unproven Coronavirus Drugs',\n",
              " 'Trump Has Given Unusual Leeway to Fauci, but Aides Say He’s Losing His Patience',\n",
              " 'Trump Considers Reopening Economy, Over Health Experts’ Objections',\n",
              " 'Trump Says Coronavirus Cure Cannot ‘Be Worse Than the Problem Itself’',\n",
              " 'Trump Bets Business Will Answer Call to Fight Virus, but Strategy Bewilders Firms',\n",
              " '‘Wartime President’? Trump Rewrites History in an Election Year',\n",
              " 'Used to Meeting Challenges With Bluster and Force, Trump Confronts a Crisis Unlike Any Before',\n",
              " 'Idled Cruise Line’s Offer: Use Our Ships as Hospitals. Is That a Good Idea?',\n",
              " 'Trump Resists Pressure to Use Wartime Law to Mobilize Industry in Virus Response',\n",
              " 'Trump’s Campaign Has Had to Adjust to His Changing View of the Coronavirus',\n",
              " 'Citing Coronavirus, Trump Will Announce Strict New Border Controls',\n",
              " 'Inside the Coronavirus Response: A Case Study in the White House Under Trump',\n",
              " 'Trump Tests Negative for Coronavirus, His Doctor Says',\n",
              " 'Seeking Advice on the Coronavirus, Jared Kushner Enlists a Doctor in the Family',\n",
              " 'Trump Falsely Tries to Tie Obama to C.D.C.’s ‘Inadequate’ Testing System',\n",
              " 'The President as Bystander: Trump Struggles to Unify a Nation on Edge',\n",
              " 'Trump’s Re-election Chances Suddenly Look Shakier',\n",
              " 'In Rare Oval Office Speech, Trump Voices New Concerns and Old Themes',\n",
              " 'Trump Endorses Tommy Tuberville (and Not Jeff Sessions) for Senate in Alabama',\n",
              " 'Sanders and Biden Cancel Events as Coronavirus Fears Upend Primary',\n",
              " 'Trump Floats Economic Stimulus in Response to Coronavirus',\n",
              " 'State Dept. Tells Americans to Avoid Cruise Ships, Despite Trump’s Misgivings',\n",
              " 'As Supreme Court Mulls Dreamers, Kushner Revives Immigration Plan',\n",
              " 'The Coronavirus. The Stock Market. Now Biden’s Comeback Adds to Trump’s Bad Week.',\n",
              " 'Trump Meets With Key Republicans Amid Stalemate Over Surveillance Laws',\n",
              " 'Trump Targets Biden Again as Democratic Race Hits Critical Stage',\n",
              " 'Ivanka Trump Now Acknowledges: ‘I’m a Proud Trump Republican’',\n",
              " 'Milken Had Key Allies in Pardon Bid: Trump’s Inner Circle',\n",
              " 'Making Pitch to Voters, Bloomberg Peddles His Experience in a Crisis',\n",
              " 'Trump Taps John Ratcliffe for Director of National Intelligence',\n",
              " 'Pence Will Control All Coronavirus Messaging From Health Officials',\n",
              " 'Trump Has a Problem as the Coronavirus Threatens the U.S.: His Credibility',\n",
              " 'Trump Campaign Will Open Storefronts in Swing States to Reach Black Voters',\n",
              " 'Trump Names Mike Pence to Lead Coronavirus Response',\n",
              " 'Among Those Pressing Trump to Weed Out Disloyalty: Clarence Thomas’s Wife',\n",
              " 'White House Asks Congress for Billions to Fight Coronavirus',\n",
              " 'One Side of a Nuclear Waste Fight: Trump. The Other: His Administration.',\n",
              " 'Richard Grenell Begins Overhauling Intelligence Office, Prompting Fears of Partisanship',\n",
              " 'Mick Mulvaney Says He Often Disagrees With Trump (Just Never Publicly)',\n",
              " 'Lawmakers Are Warned That Russia Is Meddling to Re-elect Trump',\n",
              " 'Trump’s New Intelligence Director Faces a Legal Countdown Clock on His Tenure',\n",
              " 'Trump Names Richard Grenell as Acting Head of Intelligence',\n",
              " 'Trump Grants Clemency to Blagojevich, Milken and Kerik',\n",
              " 'A Presidency Increasingly Guided by Suspicion and Distrust',\n",
              " 'William Barr Moves to Take the Reins of Politically Charged Cases',\n",
              " 'Hope Hicks to Return to the White House After a Nearly Two-Year Absence',\n",
              " 'Trump Places Loyalists in Key Jobs Inside the White House While Raging Against Enemies Outside',\n",
              " 'After Stone Case, Prosecutors Say They Fear Pressure From Trump',\n",
              " 'Trump Takes On Bloomberg and Once Again Hijacks a News Cycle',\n",
              " 'Trump Adviser Pushes Utah Congressman for Top Intelligence Post']"
            ]
          },
          "metadata": {
            "tags": []
          },
          "execution_count": 15
        }
      ]
    },
    {
      "cell_type": "code",
      "metadata": {
        "id": "unJgUKqhfUGT",
        "colab_type": "code",
        "colab": {}
      },
      "source": [
        "links = []\n",
        "\n",
        "for i in soup.find_all('li', class_ = \"css-ye6x8s\"):\n",
        "    j = i.find_all('a', href = True)\n",
        "    for k in j:\n",
        "        links.append(k['href'])"
      ],
      "execution_count": 0,
      "outputs": []
    },
    {
      "cell_type": "code",
      "metadata": {
        "id": "s6D5uWqqfZYa",
        "colab_type": "code",
        "colab": {}
      },
      "source": [
        "links = [str(\"https://www.nytimes.com\") + i for i in links]"
      ],
      "execution_count": 0,
      "outputs": []
    },
    {
      "cell_type": "code",
      "metadata": {
        "id": "45vaNqtqfaTi",
        "colab_type": "code",
        "colab": {
          "base_uri": "https://localhost:8080/",
          "height": 935
        },
        "outputId": "25e4c095-c168-4796-e859-e2910f8b33e8"
      },
      "source": [
        "links"
      ],
      "execution_count": 18,
      "outputs": [
        {
          "output_type": "execute_result",
          "data": {
            "text/plain": [
              "['https://www.nytimes.com/2020/03/24/us/politics/trump-oracle-coronavirus-chloroquine.html',\n",
              " 'https://www.nytimes.com/2020/03/23/us/politics/coronavirus-trump-fauci.html',\n",
              " 'https://www.nytimes.com/2020/03/23/business/trump-coronavirus-economy.html',\n",
              " 'https://www.nytimes.com/2020/03/23/us/politics/trump-coronavirus-restrictions.html',\n",
              " 'https://www.nytimes.com/2020/03/22/us/politics/coronavirus-trump-defense-production-act.html',\n",
              " 'https://www.nytimes.com/2020/03/22/us/politics/coronavirus-trump-wartime-president.html',\n",
              " 'https://www.nytimes.com/2020/03/21/us/politics/trump-coronavirus-leadership.html',\n",
              " 'https://www.nytimes.com/2020/03/20/travel/coronavirus-carnival-cruise-ships-hospitals.html',\n",
              " 'https://www.nytimes.com/2020/03/20/us/politics/trump-coronavirus-supplies.html',\n",
              " 'https://www.nytimes.com/2020/03/17/us/politics/trump-campaign-coronavirus.html',\n",
              " 'https://www.nytimes.com/2020/03/17/us/politics/trump-coronavirus-mexican-border.html',\n",
              " 'https://www.nytimes.com/2020/03/16/us/politics/kushner-trump-coronavirus.html',\n",
              " 'https://www.nytimes.com/2020/03/14/us/politics/trump-virus-test.html',\n",
              " 'https://www.nytimes.com/2020/03/13/us/politics/coronavirus-jared-kushner-kloss.html',\n",
              " 'https://www.nytimes.com/2020/03/13/us/politics/trump-coronavirus.html',\n",
              " 'https://www.nytimes.com/2020/03/12/us/politics/trumps-coronavirus-unity.html',\n",
              " 'https://www.nytimes.com/2020/03/12/us/politics/trump-vs-biden.html',\n",
              " 'https://www.nytimes.com/2020/03/12/us/politics/trump-coronavirus-address.html',\n",
              " 'https://www.nytimes.com/2020/03/10/us/politics/trump-tommy-tuberville-sessions.html',\n",
              " 'https://www.nytimes.com/2020/03/10/us/politics/sanders-biden-rally-coronavirus.html',\n",
              " 'https://www.nytimes.com/2020/03/09/us/politics/trump-coronavirus.html',\n",
              " 'https://www.nytimes.com/2020/03/08/us/politics/cruise-ship-warning.html',\n",
              " 'https://www.nytimes.com/2020/03/05/us/politics/immigration-kushner-trump-dreamers.html',\n",
              " 'https://www.nytimes.com/2020/03/04/us/politics/trump-coronavirus-stock-market-biden.html',\n",
              " 'https://www.nytimes.com/2020/03/03/us/politics/surveillance-fisa-trump.html',\n",
              " 'https://www.nytimes.com/2020/03/02/us/politics/trump-rally-charlotte-democrats.html',\n",
              " 'https://www.nytimes.com/2020/03/02/us/politics/ivanka-trump-republican.html',\n",
              " 'https://www.nytimes.com/2020/03/01/business/michael-milken-trump-pardon.html',\n",
              " 'https://www.nytimes.com/2020/02/28/us/politics/michael-bloomberg-mayor-experience-2020.html',\n",
              " 'https://www.nytimes.com/2020/02/28/us/politics/john-ratcliffe-director-national-intelligence.html',\n",
              " 'https://www.nytimes.com/2020/02/27/us/politics/us-coronavirus-pence.html',\n",
              " 'https://www.nytimes.com/2020/02/26/us/politics/trump-coronavirus-credibility.html',\n",
              " 'https://www.nytimes.com/2020/02/26/us/politics/trump-campaign-black-voters.html',\n",
              " 'https://www.nytimes.com/2020/02/26/us/politics/trump-coronavirus-cdc.html',\n",
              " 'https://www.nytimes.com/2020/02/24/us/politics/trump-purge-ginni-thomas.html',\n",
              " 'https://www.nytimes.com/2020/02/24/us/politics/trump-coronavirus-response.html',\n",
              " 'https://www.nytimes.com/2020/02/23/us/politics/trump-yucca-mountain-nevada.html',\n",
              " 'https://www.nytimes.com/2020/02/21/us/politics/richard-grenell-dni.html',\n",
              " 'https://www.nytimes.com/2020/02/20/us/politics/mulvaney-trump.html',\n",
              " 'https://www.nytimes.com/2020/02/20/us/politics/russian-interference-trump-democrats.html',\n",
              " 'https://www.nytimes.com/2020/02/20/us/politics/grenell-trump-intelligence-director.html',\n",
              " 'https://www.nytimes.com/2020/02/19/us/politics/dni-national-intelligence-director-grenell.html',\n",
              " 'https://www.nytimes.com/2020/02/18/us/politics/trump-pardon-blagojevich-debartolo.html',\n",
              " 'https://www.nytimes.com/2020/02/15/us/politics/trump-distrust-paranoia.html',\n",
              " 'https://www.nytimes.com/2020/02/14/us/politics/andrew-mccabe-william-barr-flynn.html',\n",
              " 'https://www.nytimes.com/2020/02/13/us/politics/hope-hicks-white-house-return.html',\n",
              " 'https://www.nytimes.com/2020/02/13/us/politics/trump-roger-stone.html',\n",
              " 'https://www.nytimes.com/2020/02/12/us/politics/justice-department-roger-stone-sentencing.html',\n",
              " 'https://www.nytimes.com/2020/02/11/us/politics/trump-bloomberg.html',\n",
              " 'https://www.nytimes.com/2020/02/11/us/politics/chris-stewart-director-of-national-intelligence.html']"
            ]
          },
          "metadata": {
            "tags": []
          },
          "execution_count": 18
        }
      ]
    },
    {
      "cell_type": "code",
      "metadata": {
        "id": "IdwnKdiyflpu",
        "colab_type": "code",
        "colab": {}
      },
      "source": [
        "df = pd.DataFrame({'headlines':headlines,\n",
        "                  'links':links})"
      ],
      "execution_count": 0,
      "outputs": []
    },
    {
      "cell_type": "code",
      "metadata": {
        "id": "_tycHmbCfpIm",
        "colab_type": "code",
        "colab": {
          "base_uri": "https://localhost:8080/",
          "height": 1000
        },
        "outputId": "168fa323-ecfa-4394-d425-9dcffb38d7d9"
      },
      "source": [
        "df"
      ],
      "execution_count": 20,
      "outputs": [
        {
          "output_type": "execute_result",
          "data": {
            "text/html": [
              "<div>\n",
              "<style scoped>\n",
              "    .dataframe tbody tr th:only-of-type {\n",
              "        vertical-align: middle;\n",
              "    }\n",
              "\n",
              "    .dataframe tbody tr th {\n",
              "        vertical-align: top;\n",
              "    }\n",
              "\n",
              "    .dataframe thead th {\n",
              "        text-align: right;\n",
              "    }\n",
              "</style>\n",
              "<table border=\"1\" class=\"dataframe\">\n",
              "  <thead>\n",
              "    <tr style=\"text-align: right;\">\n",
              "      <th></th>\n",
              "      <th>headlines</th>\n",
              "      <th>links</th>\n",
              "    </tr>\n",
              "  </thead>\n",
              "  <tbody>\n",
              "    <tr>\n",
              "      <th>0</th>\n",
              "      <td>Oracle Providing White House With Software to ...</td>\n",
              "      <td>https://www.nytimes.com/2020/03/24/us/politics...</td>\n",
              "    </tr>\n",
              "    <tr>\n",
              "      <th>1</th>\n",
              "      <td>Trump Has Given Unusual Leeway to Fauci, but A...</td>\n",
              "      <td>https://www.nytimes.com/2020/03/23/us/politics...</td>\n",
              "    </tr>\n",
              "    <tr>\n",
              "      <th>2</th>\n",
              "      <td>Trump Considers Reopening Economy, Over Health...</td>\n",
              "      <td>https://www.nytimes.com/2020/03/23/business/tr...</td>\n",
              "    </tr>\n",
              "    <tr>\n",
              "      <th>3</th>\n",
              "      <td>Trump Says Coronavirus Cure Cannot ‘Be Worse T...</td>\n",
              "      <td>https://www.nytimes.com/2020/03/23/us/politics...</td>\n",
              "    </tr>\n",
              "    <tr>\n",
              "      <th>4</th>\n",
              "      <td>Trump Bets Business Will Answer Call to Fight ...</td>\n",
              "      <td>https://www.nytimes.com/2020/03/22/us/politics...</td>\n",
              "    </tr>\n",
              "    <tr>\n",
              "      <th>5</th>\n",
              "      <td>‘Wartime President’? Trump Rewrites History in...</td>\n",
              "      <td>https://www.nytimes.com/2020/03/22/us/politics...</td>\n",
              "    </tr>\n",
              "    <tr>\n",
              "      <th>6</th>\n",
              "      <td>Used to Meeting Challenges With Bluster and Fo...</td>\n",
              "      <td>https://www.nytimes.com/2020/03/21/us/politics...</td>\n",
              "    </tr>\n",
              "    <tr>\n",
              "      <th>7</th>\n",
              "      <td>Idled Cruise Line’s Offer: Use Our Ships as Ho...</td>\n",
              "      <td>https://www.nytimes.com/2020/03/20/travel/coro...</td>\n",
              "    </tr>\n",
              "    <tr>\n",
              "      <th>8</th>\n",
              "      <td>Trump Resists Pressure to Use Wartime Law to M...</td>\n",
              "      <td>https://www.nytimes.com/2020/03/20/us/politics...</td>\n",
              "    </tr>\n",
              "    <tr>\n",
              "      <th>9</th>\n",
              "      <td>Trump’s Campaign Has Had to Adjust to His Chan...</td>\n",
              "      <td>https://www.nytimes.com/2020/03/17/us/politics...</td>\n",
              "    </tr>\n",
              "    <tr>\n",
              "      <th>10</th>\n",
              "      <td>Citing Coronavirus, Trump Will Announce Strict...</td>\n",
              "      <td>https://www.nytimes.com/2020/03/17/us/politics...</td>\n",
              "    </tr>\n",
              "    <tr>\n",
              "      <th>11</th>\n",
              "      <td>Inside the Coronavirus Response: A Case Study ...</td>\n",
              "      <td>https://www.nytimes.com/2020/03/16/us/politics...</td>\n",
              "    </tr>\n",
              "    <tr>\n",
              "      <th>12</th>\n",
              "      <td>Trump Tests Negative for Coronavirus, His Doct...</td>\n",
              "      <td>https://www.nytimes.com/2020/03/14/us/politics...</td>\n",
              "    </tr>\n",
              "    <tr>\n",
              "      <th>13</th>\n",
              "      <td>Seeking Advice on the Coronavirus, Jared Kushn...</td>\n",
              "      <td>https://www.nytimes.com/2020/03/13/us/politics...</td>\n",
              "    </tr>\n",
              "    <tr>\n",
              "      <th>14</th>\n",
              "      <td>Trump Falsely Tries to Tie Obama to C.D.C.’s ‘...</td>\n",
              "      <td>https://www.nytimes.com/2020/03/13/us/politics...</td>\n",
              "    </tr>\n",
              "    <tr>\n",
              "      <th>15</th>\n",
              "      <td>The President as Bystander: Trump Struggles to...</td>\n",
              "      <td>https://www.nytimes.com/2020/03/12/us/politics...</td>\n",
              "    </tr>\n",
              "    <tr>\n",
              "      <th>16</th>\n",
              "      <td>Trump’s Re-election Chances Suddenly Look Shakier</td>\n",
              "      <td>https://www.nytimes.com/2020/03/12/us/politics...</td>\n",
              "    </tr>\n",
              "    <tr>\n",
              "      <th>17</th>\n",
              "      <td>In Rare Oval Office Speech, Trump Voices New C...</td>\n",
              "      <td>https://www.nytimes.com/2020/03/12/us/politics...</td>\n",
              "    </tr>\n",
              "    <tr>\n",
              "      <th>18</th>\n",
              "      <td>Trump Endorses Tommy Tuberville (and Not Jeff ...</td>\n",
              "      <td>https://www.nytimes.com/2020/03/10/us/politics...</td>\n",
              "    </tr>\n",
              "    <tr>\n",
              "      <th>19</th>\n",
              "      <td>Sanders and Biden Cancel Events as Coronavirus...</td>\n",
              "      <td>https://www.nytimes.com/2020/03/10/us/politics...</td>\n",
              "    </tr>\n",
              "    <tr>\n",
              "      <th>20</th>\n",
              "      <td>Trump Floats Economic Stimulus in Response to ...</td>\n",
              "      <td>https://www.nytimes.com/2020/03/09/us/politics...</td>\n",
              "    </tr>\n",
              "    <tr>\n",
              "      <th>21</th>\n",
              "      <td>State Dept. Tells Americans to Avoid Cruise Sh...</td>\n",
              "      <td>https://www.nytimes.com/2020/03/08/us/politics...</td>\n",
              "    </tr>\n",
              "    <tr>\n",
              "      <th>22</th>\n",
              "      <td>As Supreme Court Mulls Dreamers, Kushner Reviv...</td>\n",
              "      <td>https://www.nytimes.com/2020/03/05/us/politics...</td>\n",
              "    </tr>\n",
              "    <tr>\n",
              "      <th>23</th>\n",
              "      <td>The Coronavirus. The Stock Market. Now Biden’s...</td>\n",
              "      <td>https://www.nytimes.com/2020/03/04/us/politics...</td>\n",
              "    </tr>\n",
              "    <tr>\n",
              "      <th>24</th>\n",
              "      <td>Trump Meets With Key Republicans Amid Stalemat...</td>\n",
              "      <td>https://www.nytimes.com/2020/03/03/us/politics...</td>\n",
              "    </tr>\n",
              "    <tr>\n",
              "      <th>25</th>\n",
              "      <td>Trump Targets Biden Again as Democratic Race H...</td>\n",
              "      <td>https://www.nytimes.com/2020/03/02/us/politics...</td>\n",
              "    </tr>\n",
              "    <tr>\n",
              "      <th>26</th>\n",
              "      <td>Ivanka Trump Now Acknowledges: ‘I’m a Proud Tr...</td>\n",
              "      <td>https://www.nytimes.com/2020/03/02/us/politics...</td>\n",
              "    </tr>\n",
              "    <tr>\n",
              "      <th>27</th>\n",
              "      <td>Milken Had Key Allies in Pardon Bid: Trump’s I...</td>\n",
              "      <td>https://www.nytimes.com/2020/03/01/business/mi...</td>\n",
              "    </tr>\n",
              "    <tr>\n",
              "      <th>28</th>\n",
              "      <td>Making Pitch to Voters, Bloomberg Peddles His ...</td>\n",
              "      <td>https://www.nytimes.com/2020/02/28/us/politics...</td>\n",
              "    </tr>\n",
              "    <tr>\n",
              "      <th>29</th>\n",
              "      <td>Trump Taps John Ratcliffe for Director of Nati...</td>\n",
              "      <td>https://www.nytimes.com/2020/02/28/us/politics...</td>\n",
              "    </tr>\n",
              "    <tr>\n",
              "      <th>30</th>\n",
              "      <td>Pence Will Control All Coronavirus Messaging F...</td>\n",
              "      <td>https://www.nytimes.com/2020/02/27/us/politics...</td>\n",
              "    </tr>\n",
              "    <tr>\n",
              "      <th>31</th>\n",
              "      <td>Trump Has a Problem as the Coronavirus Threate...</td>\n",
              "      <td>https://www.nytimes.com/2020/02/26/us/politics...</td>\n",
              "    </tr>\n",
              "    <tr>\n",
              "      <th>32</th>\n",
              "      <td>Trump Campaign Will Open Storefronts in Swing ...</td>\n",
              "      <td>https://www.nytimes.com/2020/02/26/us/politics...</td>\n",
              "    </tr>\n",
              "    <tr>\n",
              "      <th>33</th>\n",
              "      <td>Trump Names Mike Pence to Lead Coronavirus Res...</td>\n",
              "      <td>https://www.nytimes.com/2020/02/26/us/politics...</td>\n",
              "    </tr>\n",
              "    <tr>\n",
              "      <th>34</th>\n",
              "      <td>Among Those Pressing Trump to Weed Out Disloya...</td>\n",
              "      <td>https://www.nytimes.com/2020/02/24/us/politics...</td>\n",
              "    </tr>\n",
              "    <tr>\n",
              "      <th>35</th>\n",
              "      <td>White House Asks Congress for Billions to Figh...</td>\n",
              "      <td>https://www.nytimes.com/2020/02/24/us/politics...</td>\n",
              "    </tr>\n",
              "    <tr>\n",
              "      <th>36</th>\n",
              "      <td>One Side of a Nuclear Waste Fight: Trump. The ...</td>\n",
              "      <td>https://www.nytimes.com/2020/02/23/us/politics...</td>\n",
              "    </tr>\n",
              "    <tr>\n",
              "      <th>37</th>\n",
              "      <td>Richard Grenell Begins Overhauling Intelligenc...</td>\n",
              "      <td>https://www.nytimes.com/2020/02/21/us/politics...</td>\n",
              "    </tr>\n",
              "    <tr>\n",
              "      <th>38</th>\n",
              "      <td>Mick Mulvaney Says He Often Disagrees With Tru...</td>\n",
              "      <td>https://www.nytimes.com/2020/02/20/us/politics...</td>\n",
              "    </tr>\n",
              "    <tr>\n",
              "      <th>39</th>\n",
              "      <td>Lawmakers Are Warned That Russia Is Meddling t...</td>\n",
              "      <td>https://www.nytimes.com/2020/02/20/us/politics...</td>\n",
              "    </tr>\n",
              "    <tr>\n",
              "      <th>40</th>\n",
              "      <td>Trump’s New Intelligence Director Faces a Lega...</td>\n",
              "      <td>https://www.nytimes.com/2020/02/20/us/politics...</td>\n",
              "    </tr>\n",
              "    <tr>\n",
              "      <th>41</th>\n",
              "      <td>Trump Names Richard Grenell as Acting Head of ...</td>\n",
              "      <td>https://www.nytimes.com/2020/02/19/us/politics...</td>\n",
              "    </tr>\n",
              "    <tr>\n",
              "      <th>42</th>\n",
              "      <td>Trump Grants Clemency to Blagojevich, Milken a...</td>\n",
              "      <td>https://www.nytimes.com/2020/02/18/us/politics...</td>\n",
              "    </tr>\n",
              "    <tr>\n",
              "      <th>43</th>\n",
              "      <td>A Presidency Increasingly Guided by Suspicion ...</td>\n",
              "      <td>https://www.nytimes.com/2020/02/15/us/politics...</td>\n",
              "    </tr>\n",
              "    <tr>\n",
              "      <th>44</th>\n",
              "      <td>William Barr Moves to Take the Reins of Politi...</td>\n",
              "      <td>https://www.nytimes.com/2020/02/14/us/politics...</td>\n",
              "    </tr>\n",
              "    <tr>\n",
              "      <th>45</th>\n",
              "      <td>Hope Hicks to Return to the White House After ...</td>\n",
              "      <td>https://www.nytimes.com/2020/02/13/us/politics...</td>\n",
              "    </tr>\n",
              "    <tr>\n",
              "      <th>46</th>\n",
              "      <td>Trump Places Loyalists in Key Jobs Inside the ...</td>\n",
              "      <td>https://www.nytimes.com/2020/02/13/us/politics...</td>\n",
              "    </tr>\n",
              "    <tr>\n",
              "      <th>47</th>\n",
              "      <td>After Stone Case, Prosecutors Say They Fear Pr...</td>\n",
              "      <td>https://www.nytimes.com/2020/02/12/us/politics...</td>\n",
              "    </tr>\n",
              "    <tr>\n",
              "      <th>48</th>\n",
              "      <td>Trump Takes On Bloomberg and Once Again Hijack...</td>\n",
              "      <td>https://www.nytimes.com/2020/02/11/us/politics...</td>\n",
              "    </tr>\n",
              "    <tr>\n",
              "      <th>49</th>\n",
              "      <td>Trump Adviser Pushes Utah Congressman for Top ...</td>\n",
              "      <td>https://www.nytimes.com/2020/02/11/us/politics...</td>\n",
              "    </tr>\n",
              "  </tbody>\n",
              "</table>\n",
              "</div>"
            ],
            "text/plain": [
              "                                            headlines                                              links\n",
              "0   Oracle Providing White House With Software to ...  https://www.nytimes.com/2020/03/24/us/politics...\n",
              "1   Trump Has Given Unusual Leeway to Fauci, but A...  https://www.nytimes.com/2020/03/23/us/politics...\n",
              "2   Trump Considers Reopening Economy, Over Health...  https://www.nytimes.com/2020/03/23/business/tr...\n",
              "3   Trump Says Coronavirus Cure Cannot ‘Be Worse T...  https://www.nytimes.com/2020/03/23/us/politics...\n",
              "4   Trump Bets Business Will Answer Call to Fight ...  https://www.nytimes.com/2020/03/22/us/politics...\n",
              "5   ‘Wartime President’? Trump Rewrites History in...  https://www.nytimes.com/2020/03/22/us/politics...\n",
              "6   Used to Meeting Challenges With Bluster and Fo...  https://www.nytimes.com/2020/03/21/us/politics...\n",
              "7   Idled Cruise Line’s Offer: Use Our Ships as Ho...  https://www.nytimes.com/2020/03/20/travel/coro...\n",
              "8   Trump Resists Pressure to Use Wartime Law to M...  https://www.nytimes.com/2020/03/20/us/politics...\n",
              "9   Trump’s Campaign Has Had to Adjust to His Chan...  https://www.nytimes.com/2020/03/17/us/politics...\n",
              "10  Citing Coronavirus, Trump Will Announce Strict...  https://www.nytimes.com/2020/03/17/us/politics...\n",
              "11  Inside the Coronavirus Response: A Case Study ...  https://www.nytimes.com/2020/03/16/us/politics...\n",
              "12  Trump Tests Negative for Coronavirus, His Doct...  https://www.nytimes.com/2020/03/14/us/politics...\n",
              "13  Seeking Advice on the Coronavirus, Jared Kushn...  https://www.nytimes.com/2020/03/13/us/politics...\n",
              "14  Trump Falsely Tries to Tie Obama to C.D.C.’s ‘...  https://www.nytimes.com/2020/03/13/us/politics...\n",
              "15  The President as Bystander: Trump Struggles to...  https://www.nytimes.com/2020/03/12/us/politics...\n",
              "16  Trump’s Re-election Chances Suddenly Look Shakier  https://www.nytimes.com/2020/03/12/us/politics...\n",
              "17  In Rare Oval Office Speech, Trump Voices New C...  https://www.nytimes.com/2020/03/12/us/politics...\n",
              "18  Trump Endorses Tommy Tuberville (and Not Jeff ...  https://www.nytimes.com/2020/03/10/us/politics...\n",
              "19  Sanders and Biden Cancel Events as Coronavirus...  https://www.nytimes.com/2020/03/10/us/politics...\n",
              "20  Trump Floats Economic Stimulus in Response to ...  https://www.nytimes.com/2020/03/09/us/politics...\n",
              "21  State Dept. Tells Americans to Avoid Cruise Sh...  https://www.nytimes.com/2020/03/08/us/politics...\n",
              "22  As Supreme Court Mulls Dreamers, Kushner Reviv...  https://www.nytimes.com/2020/03/05/us/politics...\n",
              "23  The Coronavirus. The Stock Market. Now Biden’s...  https://www.nytimes.com/2020/03/04/us/politics...\n",
              "24  Trump Meets With Key Republicans Amid Stalemat...  https://www.nytimes.com/2020/03/03/us/politics...\n",
              "25  Trump Targets Biden Again as Democratic Race H...  https://www.nytimes.com/2020/03/02/us/politics...\n",
              "26  Ivanka Trump Now Acknowledges: ‘I’m a Proud Tr...  https://www.nytimes.com/2020/03/02/us/politics...\n",
              "27  Milken Had Key Allies in Pardon Bid: Trump’s I...  https://www.nytimes.com/2020/03/01/business/mi...\n",
              "28  Making Pitch to Voters, Bloomberg Peddles His ...  https://www.nytimes.com/2020/02/28/us/politics...\n",
              "29  Trump Taps John Ratcliffe for Director of Nati...  https://www.nytimes.com/2020/02/28/us/politics...\n",
              "30  Pence Will Control All Coronavirus Messaging F...  https://www.nytimes.com/2020/02/27/us/politics...\n",
              "31  Trump Has a Problem as the Coronavirus Threate...  https://www.nytimes.com/2020/02/26/us/politics...\n",
              "32  Trump Campaign Will Open Storefronts in Swing ...  https://www.nytimes.com/2020/02/26/us/politics...\n",
              "33  Trump Names Mike Pence to Lead Coronavirus Res...  https://www.nytimes.com/2020/02/26/us/politics...\n",
              "34  Among Those Pressing Trump to Weed Out Disloya...  https://www.nytimes.com/2020/02/24/us/politics...\n",
              "35  White House Asks Congress for Billions to Figh...  https://www.nytimes.com/2020/02/24/us/politics...\n",
              "36  One Side of a Nuclear Waste Fight: Trump. The ...  https://www.nytimes.com/2020/02/23/us/politics...\n",
              "37  Richard Grenell Begins Overhauling Intelligenc...  https://www.nytimes.com/2020/02/21/us/politics...\n",
              "38  Mick Mulvaney Says He Often Disagrees With Tru...  https://www.nytimes.com/2020/02/20/us/politics...\n",
              "39  Lawmakers Are Warned That Russia Is Meddling t...  https://www.nytimes.com/2020/02/20/us/politics...\n",
              "40  Trump’s New Intelligence Director Faces a Lega...  https://www.nytimes.com/2020/02/20/us/politics...\n",
              "41  Trump Names Richard Grenell as Acting Head of ...  https://www.nytimes.com/2020/02/19/us/politics...\n",
              "42  Trump Grants Clemency to Blagojevich, Milken a...  https://www.nytimes.com/2020/02/18/us/politics...\n",
              "43  A Presidency Increasingly Guided by Suspicion ...  https://www.nytimes.com/2020/02/15/us/politics...\n",
              "44  William Barr Moves to Take the Reins of Politi...  https://www.nytimes.com/2020/02/14/us/politics...\n",
              "45  Hope Hicks to Return to the White House After ...  https://www.nytimes.com/2020/02/13/us/politics...\n",
              "46  Trump Places Loyalists in Key Jobs Inside the ...  https://www.nytimes.com/2020/02/13/us/politics...\n",
              "47  After Stone Case, Prosecutors Say They Fear Pr...  https://www.nytimes.com/2020/02/12/us/politics...\n",
              "48  Trump Takes On Bloomberg and Once Again Hijack...  https://www.nytimes.com/2020/02/11/us/politics...\n",
              "49  Trump Adviser Pushes Utah Congressman for Top ...  https://www.nytimes.com/2020/02/11/us/politics..."
            ]
          },
          "metadata": {
            "tags": []
          },
          "execution_count": 20
        }
      ]
    },
    {
      "cell_type": "code",
      "metadata": {
        "id": "uMwKU7d8fqZK",
        "colab_type": "code",
        "colab": {}
      },
      "source": [
        ""
      ],
      "execution_count": 0,
      "outputs": []
    }
  ]
}