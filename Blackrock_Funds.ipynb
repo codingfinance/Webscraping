{
 "cells": [
  {
   "cell_type": "code",
   "execution_count": 1,
   "metadata": {},
   "outputs": [],
   "source": [
    "import pandas as pd\n",
    "import numpy as np\n",
    "\n",
    "from selenium import webdriver\n",
    "from selenium.webdriver.firefox import options\n",
    "from bs4 import BeautifulSoup"
   ]
  },
  {
   "cell_type": "code",
   "execution_count": 2,
   "metadata": {},
   "outputs": [],
   "source": [
    "opt = options.Options()\n",
    "opt.headless = True"
   ]
  },
  {
   "cell_type": "code",
   "execution_count": 3,
   "metadata": {},
   "outputs": [],
   "source": [
    "driver = webdriver.Firefox(options = opt)"
   ]
  },
  {
   "cell_type": "code",
   "execution_count": 4,
   "metadata": {},
   "outputs": [],
   "source": [
    "driver.get(\"https://www.blackrock.com/us/individual/products/investment-funds#!type=all&view=perfNav\")"
   ]
  },
  {
   "cell_type": "code",
   "execution_count": 5,
   "metadata": {},
   "outputs": [],
   "source": [
    "driver.find_element_by_css_selector('#table-renderer .dropdown-menu').click()"
   ]
  },
  {
   "cell_type": "code",
   "execution_count": 6,
   "metadata": {},
   "outputs": [],
   "source": [
    "driver.find_element_by_css_selector(\"div.list-container:nth-child(1) > ul:nth-child(2) > li:nth-child(3) > px-radio:nth-child(1) > span:nth-child(1) > label:nth-child(3)\").click()"
   ]
  },
  {
   "cell_type": "code",
   "execution_count": 7,
   "metadata": {},
   "outputs": [],
   "source": [
    "soup = BeautifulSoup(driver.page_source, 'lxml')"
   ]
  },
  {
   "cell_type": "code",
   "execution_count": 8,
   "metadata": {
    "scrolled": false
   },
   "outputs": [],
   "source": [
    "table = soup.find('div', {\"class\":\"dTable desktop\"})"
   ]
  },
  {
   "cell_type": "code",
   "execution_count": 9,
   "metadata": {},
   "outputs": [],
   "source": [
    "ticker = [i.text for i in soup.select('.ticker a')]"
   ]
  },
  {
   "cell_type": "code",
   "execution_count": 10,
   "metadata": {},
   "outputs": [],
   "source": [
    "fund_name = [i.text for i in soup.select('.fund-name-block a')]"
   ]
  },
  {
   "cell_type": "code",
   "execution_count": 11,
   "metadata": {},
   "outputs": [],
   "source": [
    "aum = [i.text for i in soup.select('.totalNetAssets')][1:]"
   ]
  },
  {
   "cell_type": "code",
   "execution_count": 12,
   "metadata": {},
   "outputs": [],
   "source": [
    "link = [i['href'] for i in soup.select('.ticker a')]\n",
    "\n",
    "link = [str('https://www.blackrock.com') + i for i in link]"
   ]
  },
  {
   "cell_type": "code",
   "execution_count": 13,
   "metadata": {},
   "outputs": [],
   "source": [
    "df = pd.DataFrame({'fund_name':fund_name,\n",
    "            'ticker':ticker,\n",
    "            'aum':aum,\n",
    "                  'link':link})"
   ]
  },
  {
   "cell_type": "code",
   "execution_count": 14,
   "metadata": {
    "scrolled": true
   },
   "outputs": [
    {
     "data": {
      "text/html": [
       "<div>\n",
       "<style scoped>\n",
       "    .dataframe tbody tr th:only-of-type {\n",
       "        vertical-align: middle;\n",
       "    }\n",
       "\n",
       "    .dataframe tbody tr th {\n",
       "        vertical-align: top;\n",
       "    }\n",
       "\n",
       "    .dataframe thead th {\n",
       "        text-align: right;\n",
       "    }\n",
       "</style>\n",
       "<table border=\"1\" class=\"dataframe\">\n",
       "  <thead>\n",
       "    <tr style=\"text-align: right;\">\n",
       "      <th></th>\n",
       "      <th>fund_name</th>\n",
       "      <th>ticker</th>\n",
       "      <th>aum</th>\n",
       "      <th>link</th>\n",
       "    </tr>\n",
       "  </thead>\n",
       "  <tbody>\n",
       "    <tr>\n",
       "      <th>0</th>\n",
       "      <td>iShares Core S&amp;P 500 ETF</td>\n",
       "      <td>IVV</td>\n",
       "      <td>167,922M</td>\n",
       "      <td>https://www.blackrock.com/us/individual/produc...</td>\n",
       "    </tr>\n",
       "    <tr>\n",
       "      <th>1</th>\n",
       "      <td>iShares Core U.S. Aggregate Bond ETF</td>\n",
       "      <td>AGG</td>\n",
       "      <td>68,549M</td>\n",
       "      <td>https://www.blackrock.com/us/individual/produc...</td>\n",
       "    </tr>\n",
       "    <tr>\n",
       "      <th>2</th>\n",
       "      <td>iShares Core MSCI EAFE ETF</td>\n",
       "      <td>IEFA</td>\n",
       "      <td>60,621M</td>\n",
       "      <td>https://www.blackrock.com/us/individual/produc...</td>\n",
       "    </tr>\n",
       "    <tr>\n",
       "      <th>3</th>\n",
       "      <td>iShares MSCI EAFE ETF</td>\n",
       "      <td>EFA</td>\n",
       "      <td>47,412M</td>\n",
       "      <td>https://www.blackrock.com/us/individual/produc...</td>\n",
       "    </tr>\n",
       "    <tr>\n",
       "      <th>4</th>\n",
       "      <td>iShares Core MSCI Emerging Markets ETF</td>\n",
       "      <td>IEMG</td>\n",
       "      <td>46,934M</td>\n",
       "      <td>https://www.blackrock.com/us/individual/produc...</td>\n",
       "    </tr>\n",
       "    <tr>\n",
       "      <th>...</th>\n",
       "      <td>...</td>\n",
       "      <td>...</td>\n",
       "      <td>...</td>\n",
       "      <td>...</td>\n",
       "    </tr>\n",
       "    <tr>\n",
       "      <th>95</th>\n",
       "      <td>iShares Core 1-5 Year USD Bond ETF</td>\n",
       "      <td>ISTB</td>\n",
       "      <td>3,471M</td>\n",
       "      <td>https://www.blackrock.com/us/individual/produc...</td>\n",
       "    </tr>\n",
       "    <tr>\n",
       "      <th>96</th>\n",
       "      <td>LifePath Index 2040 Fund</td>\n",
       "      <td>LIKKX</td>\n",
       "      <td>3,454M</td>\n",
       "      <td>https://www.blackrock.com/us/individual/produc...</td>\n",
       "    </tr>\n",
       "    <tr>\n",
       "      <th>97</th>\n",
       "      <td>LifePath Index 2035 Fund</td>\n",
       "      <td>LIJKX</td>\n",
       "      <td>3,449M</td>\n",
       "      <td>https://www.blackrock.com/us/individual/produc...</td>\n",
       "    </tr>\n",
       "    <tr>\n",
       "      <th>98</th>\n",
       "      <td>iShares MSCI All Country Asia ex Japan ETF</td>\n",
       "      <td>AAXJ</td>\n",
       "      <td>3,431M</td>\n",
       "      <td>https://www.blackrock.com/us/individual/produc...</td>\n",
       "    </tr>\n",
       "    <tr>\n",
       "      <th>99</th>\n",
       "      <td>Health Sciences Opportunities Fund</td>\n",
       "      <td>SHSSX</td>\n",
       "      <td>3,414M</td>\n",
       "      <td>https://www.blackrock.com/us/individual/produc...</td>\n",
       "    </tr>\n",
       "  </tbody>\n",
       "</table>\n",
       "<p>100 rows × 4 columns</p>\n",
       "</div>"
      ],
      "text/plain": [
       "                                     fund_name ticker         aum  \\\n",
       "0                     iShares Core S&P 500 ETF    IVV   167,922M    \n",
       "1         iShares Core U.S. Aggregate Bond ETF    AGG    68,549M    \n",
       "2                   iShares Core MSCI EAFE ETF   IEFA    60,621M    \n",
       "3                        iShares MSCI EAFE ETF    EFA    47,412M    \n",
       "4       iShares Core MSCI Emerging Markets ETF   IEMG    46,934M    \n",
       "..                                         ...    ...         ...   \n",
       "95          iShares Core 1-5 Year USD Bond ETF   ISTB     3,471M    \n",
       "96                    LifePath Index 2040 Fund  LIKKX     3,454M    \n",
       "97                    LifePath Index 2035 Fund  LIJKX     3,449M    \n",
       "98  iShares MSCI All Country Asia ex Japan ETF   AAXJ     3,431M    \n",
       "99          Health Sciences Opportunities Fund  SHSSX     3,414M    \n",
       "\n",
       "                                                 link  \n",
       "0   https://www.blackrock.com/us/individual/produc...  \n",
       "1   https://www.blackrock.com/us/individual/produc...  \n",
       "2   https://www.blackrock.com/us/individual/produc...  \n",
       "3   https://www.blackrock.com/us/individual/produc...  \n",
       "4   https://www.blackrock.com/us/individual/produc...  \n",
       "..                                                ...  \n",
       "95  https://www.blackrock.com/us/individual/produc...  \n",
       "96  https://www.blackrock.com/us/individual/produc...  \n",
       "97  https://www.blackrock.com/us/individual/produc...  \n",
       "98  https://www.blackrock.com/us/individual/produc...  \n",
       "99  https://www.blackrock.com/us/individual/produc...  \n",
       "\n",
       "[100 rows x 4 columns]"
      ]
     },
     "execution_count": 14,
     "metadata": {},
     "output_type": "execute_result"
    }
   ],
   "source": [
    "df"
   ]
  },
  {
   "cell_type": "code",
   "execution_count": 15,
   "metadata": {},
   "outputs": [],
   "source": [
    "driver.close()"
   ]
  },
  {
   "cell_type": "code",
   "execution_count": null,
   "metadata": {},
   "outputs": [],
   "source": []
  }
 ],
 "metadata": {
  "kernelspec": {
   "display_name": "Python 3",
   "language": "python",
   "name": "python3"
  },
  "language_info": {
   "codemirror_mode": {
    "name": "ipython",
    "version": 3
   },
   "file_extension": ".py",
   "mimetype": "text/x-python",
   "name": "python",
   "nbconvert_exporter": "python",
   "pygments_lexer": "ipython3",
   "version": "3.8.2"
  }
 },
 "nbformat": 4,
 "nbformat_minor": 4
}
