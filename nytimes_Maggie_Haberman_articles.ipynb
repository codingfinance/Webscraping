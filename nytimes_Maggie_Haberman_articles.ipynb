{
 "cells": [
  {
   "cell_type": "code",
   "execution_count": 1,
   "metadata": {},
   "outputs": [],
   "source": [
    "from selenium import webdriver\n",
    "from bs4 import BeautifulSoup\n",
    "\n",
    "import pandas as pd\n",
    "import numpy as np"
   ]
  },
  {
   "cell_type": "code",
   "execution_count": 5,
   "metadata": {},
   "outputs": [],
   "source": [
    "# driver = webdriver.Firefox()\n",
    "\n",
    "driver.get(\"https://www.nytimes.com/by/maggie-haberman\")"
   ]
  },
  {
   "cell_type": "code",
   "execution_count": 19,
   "metadata": {},
   "outputs": [],
   "source": [
    "elem = driver.find_element_by_css_selector(\".css-1stvaey > button:nth-child(1)\")"
   ]
  },
  {
   "cell_type": "code",
   "execution_count": 20,
   "metadata": {},
   "outputs": [],
   "source": [
    "elem.click()"
   ]
  },
  {
   "cell_type": "code",
   "execution_count": 21,
   "metadata": {},
   "outputs": [],
   "source": [
    "soup = BeautifulSoup(driver.page_source, \"lxml\")"
   ]
  },
  {
   "cell_type": "code",
   "execution_count": 28,
   "metadata": {},
   "outputs": [],
   "source": [
    "headlines = []\n",
    "\n",
    "for i in soup.select(\".e1xfvim30\"):\n",
    "    headlines.append(i.text)"
   ]
  },
  {
   "cell_type": "code",
   "execution_count": 30,
   "metadata": {},
   "outputs": [
    {
     "data": {
      "text/plain": [
       "['Trump Says Coronavirus Cure Cannot ‘Be Worse Than the Problem Itself’',\n",
       " 'Trump Bets Business Will Answer Call to Fight Virus, but Strategy Bewilders Firms',\n",
       " '‘Wartime President’? Trump Rewrites History in an Election Year',\n",
       " 'Used to Meeting Challenges With Bluster and Force, Trump Confronts a Crisis Unlike Any Before',\n",
       " 'Idled Cruise Line’s Offer: Use Our Ships as Hospitals. Is That a Good Idea?',\n",
       " 'Trump Resists Pressure to Use Wartime Law to Mobilize Industry in Virus Response',\n",
       " 'Trump’s Campaign Has Had to Adjust to His Changing View of the Coronavirus',\n",
       " 'Citing Coronavirus, Trump Will Announce Strict New Border Controls',\n",
       " 'Inside the Coronavirus Response: A Case Study in the White House Under Trump',\n",
       " 'Trump Tests Negative for Coronavirus, His Doctor Says']"
      ]
     },
     "execution_count": 30,
     "metadata": {},
     "output_type": "execute_result"
    }
   ],
   "source": [
    "headlines[:10]"
   ]
  },
  {
   "cell_type": "code",
   "execution_count": 44,
   "metadata": {},
   "outputs": [],
   "source": [
    "links = []\n",
    "\n",
    "for i in soup.find_all('li', class_ = \"css-ye6x8s\"):\n",
    "    j = i.find_all('a', href = True)\n",
    "    for k in j:\n",
    "        links.append(k['href'])"
   ]
  },
  {
   "cell_type": "code",
   "execution_count": 60,
   "metadata": {},
   "outputs": [
    {
     "data": {
      "text/plain": [
       "['/2020/03/23/us/politics/trump-coronavirus-restrictions.html',\n",
       " '/2020/03/22/us/politics/coronavirus-trump-defense-production-act.html',\n",
       " '/2020/03/22/us/politics/coronavirus-trump-wartime-president.html',\n",
       " '/2020/03/21/us/politics/trump-coronavirus-leadership.html',\n",
       " '/2020/03/20/travel/coronavirus-carnival-cruise-ships-hospitals.html',\n",
       " '/2020/03/20/us/politics/trump-coronavirus-supplies.html',\n",
       " '/2020/03/17/us/politics/trump-campaign-coronavirus.html',\n",
       " '/2020/03/17/us/politics/trump-coronavirus-mexican-border.html',\n",
       " '/2020/03/16/us/politics/kushner-trump-coronavirus.html',\n",
       " '/2020/03/14/us/politics/trump-virus-test.html']"
      ]
     },
     "execution_count": 60,
     "metadata": {},
     "output_type": "execute_result"
    }
   ],
   "source": [
    "links[:10]"
   ]
  },
  {
   "cell_type": "code",
   "execution_count": 48,
   "metadata": {},
   "outputs": [],
   "source": [
    "df = pd.DataFrame({'headlines':headlines,\n",
    "                  'links':links})"
   ]
  },
  {
   "cell_type": "code",
   "execution_count": 55,
   "metadata": {},
   "outputs": [],
   "source": [
    "df['links'] = str(\"https://www.nytimes.com\") + df['links']"
   ]
  },
  {
   "cell_type": "code",
   "execution_count": 58,
   "metadata": {},
   "outputs": [
    {
     "data": {
      "text/html": [
       "<div>\n",
       "<style scoped>\n",
       "    .dataframe tbody tr th:only-of-type {\n",
       "        vertical-align: middle;\n",
       "    }\n",
       "\n",
       "    .dataframe tbody tr th {\n",
       "        vertical-align: top;\n",
       "    }\n",
       "\n",
       "    .dataframe thead th {\n",
       "        text-align: right;\n",
       "    }\n",
       "</style>\n",
       "<table border=\"1\" class=\"dataframe\">\n",
       "  <thead>\n",
       "    <tr style=\"text-align: right;\">\n",
       "      <th></th>\n",
       "      <th>headlines</th>\n",
       "      <th>links</th>\n",
       "    </tr>\n",
       "  </thead>\n",
       "  <tbody>\n",
       "    <tr>\n",
       "      <th>0</th>\n",
       "      <td>Trump Says Coronavirus Cure Cannot ‘Be Worse T...</td>\n",
       "      <td>https://www.nytimes.comhttps://www.nytimes.com...</td>\n",
       "    </tr>\n",
       "    <tr>\n",
       "      <th>1</th>\n",
       "      <td>Trump Bets Business Will Answer Call to Fight ...</td>\n",
       "      <td>https://www.nytimes.comhttps://www.nytimes.com...</td>\n",
       "    </tr>\n",
       "    <tr>\n",
       "      <th>2</th>\n",
       "      <td>‘Wartime President’? Trump Rewrites History in...</td>\n",
       "      <td>https://www.nytimes.comhttps://www.nytimes.com...</td>\n",
       "    </tr>\n",
       "    <tr>\n",
       "      <th>3</th>\n",
       "      <td>Used to Meeting Challenges With Bluster and Fo...</td>\n",
       "      <td>https://www.nytimes.comhttps://www.nytimes.com...</td>\n",
       "    </tr>\n",
       "    <tr>\n",
       "      <th>4</th>\n",
       "      <td>Idled Cruise Line’s Offer: Use Our Ships as Ho...</td>\n",
       "      <td>https://www.nytimes.comhttps://www.nytimes.com...</td>\n",
       "    </tr>\n",
       "    <tr>\n",
       "      <th>...</th>\n",
       "      <td>...</td>\n",
       "      <td>...</td>\n",
       "    </tr>\n",
       "    <tr>\n",
       "      <th>65</th>\n",
       "      <td>Trump Tied Ukraine Aid to Inquiries He Sought,...</td>\n",
       "      <td>https://www.nytimes.comhttps://www.nytimes.com...</td>\n",
       "    </tr>\n",
       "    <tr>\n",
       "      <th>66</th>\n",
       "      <td>Branding Trump a Danger, Democrats Cap the Cas...</td>\n",
       "      <td>https://www.nytimes.comhttps://www.nytimes.com...</td>\n",
       "    </tr>\n",
       "    <tr>\n",
       "      <th>67</th>\n",
       "      <td>Trump Tries to Upstage Drama in the Senate Wit...</td>\n",
       "      <td>https://www.nytimes.comhttps://www.nytimes.com...</td>\n",
       "    </tr>\n",
       "    <tr>\n",
       "      <th>68</th>\n",
       "      <td>Trump May Skip Debates, or Seek New Host, if P...</td>\n",
       "      <td>https://www.nytimes.comhttps://www.nytimes.com...</td>\n",
       "    </tr>\n",
       "    <tr>\n",
       "      <th>69</th>\n",
       "      <td>Trump Tells Anti-Abortion Marchers, ‘Unborn Ch...</td>\n",
       "      <td>https://www.nytimes.comhttps://www.nytimes.com...</td>\n",
       "    </tr>\n",
       "  </tbody>\n",
       "</table>\n",
       "<p>70 rows × 2 columns</p>\n",
       "</div>"
      ],
      "text/plain": [
       "                                            headlines  \\\n",
       "0   Trump Says Coronavirus Cure Cannot ‘Be Worse T...   \n",
       "1   Trump Bets Business Will Answer Call to Fight ...   \n",
       "2   ‘Wartime President’? Trump Rewrites History in...   \n",
       "3   Used to Meeting Challenges With Bluster and Fo...   \n",
       "4   Idled Cruise Line’s Offer: Use Our Ships as Ho...   \n",
       "..                                                ...   \n",
       "65  Trump Tied Ukraine Aid to Inquiries He Sought,...   \n",
       "66  Branding Trump a Danger, Democrats Cap the Cas...   \n",
       "67  Trump Tries to Upstage Drama in the Senate Wit...   \n",
       "68  Trump May Skip Debates, or Seek New Host, if P...   \n",
       "69  Trump Tells Anti-Abortion Marchers, ‘Unborn Ch...   \n",
       "\n",
       "                                                links  \n",
       "0   https://www.nytimes.comhttps://www.nytimes.com...  \n",
       "1   https://www.nytimes.comhttps://www.nytimes.com...  \n",
       "2   https://www.nytimes.comhttps://www.nytimes.com...  \n",
       "3   https://www.nytimes.comhttps://www.nytimes.com...  \n",
       "4   https://www.nytimes.comhttps://www.nytimes.com...  \n",
       "..                                                ...  \n",
       "65  https://www.nytimes.comhttps://www.nytimes.com...  \n",
       "66  https://www.nytimes.comhttps://www.nytimes.com...  \n",
       "67  https://www.nytimes.comhttps://www.nytimes.com...  \n",
       "68  https://www.nytimes.comhttps://www.nytimes.com...  \n",
       "69  https://www.nytimes.comhttps://www.nytimes.com...  \n",
       "\n",
       "[70 rows x 2 columns]"
      ]
     },
     "execution_count": 58,
     "metadata": {},
     "output_type": "execute_result"
    }
   ],
   "source": [
    "df"
   ]
  },
  {
   "cell_type": "code",
   "execution_count": null,
   "metadata": {},
   "outputs": [],
   "source": []
  }
 ],
 "metadata": {
  "kernelspec": {
   "display_name": "Python 3",
   "language": "python",
   "name": "python3"
  },
  "language_info": {
   "codemirror_mode": {
    "name": "ipython",
    "version": 3
   },
   "file_extension": ".py",
   "mimetype": "text/x-python",
   "name": "python",
   "nbconvert_exporter": "python",
   "pygments_lexer": "ipython3",
   "version": "3.7.5"
  }
 },
 "nbformat": 4,
 "nbformat_minor": 4
}
