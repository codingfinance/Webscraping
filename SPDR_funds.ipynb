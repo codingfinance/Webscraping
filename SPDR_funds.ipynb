{
 "cells": [
  {
   "cell_type": "code",
   "execution_count": 1,
   "metadata": {},
   "outputs": [],
   "source": [
    "from selenium import webdriver\n",
    "from selenium.webdriver.firefox import options\n",
    "from bs4 import BeautifulSoup\n",
    "from collections import OrderedDict\n",
    "\n",
    "import pandas as pd\n",
    "import numpy as np"
   ]
  },
  {
   "cell_type": "code",
   "execution_count": 2,
   "metadata": {},
   "outputs": [],
   "source": [
    "option = options.Options()\n",
    "option.headless = True"
   ]
  },
  {
   "cell_type": "code",
   "execution_count": 3,
   "metadata": {},
   "outputs": [],
   "source": [
    "driver = webdriver.Firefox(options=option)\n",
    "driver.get(\"https://www.ssga.com/us/en/individual/etfs/fund-finder\")"
   ]
  },
  {
   "cell_type": "code",
   "execution_count": 4,
   "metadata": {},
   "outputs": [],
   "source": [
    "soup = BeautifulSoup(driver.page_source, 'lxml')\n",
    "driver.close()"
   ]
  },
  {
   "cell_type": "code",
   "execution_count": 5,
   "metadata": {},
   "outputs": [],
   "source": [
    "fund_name = [i.text for i in soup.select('.fundname a')]\n",
    "fund_name = list(OrderedDict.fromkeys(fund_name))"
   ]
  },
  {
   "cell_type": "code",
   "execution_count": 6,
   "metadata": {},
   "outputs": [],
   "source": [
    "ticker = [i.text for i in soup.select('.fundticker a')]\n",
    "ticker = list(OrderedDict.fromkeys(ticker))"
   ]
  },
  {
   "cell_type": "code",
   "execution_count": 7,
   "metadata": {},
   "outputs": [],
   "source": [
    "exp_ratio = [i.text for i in soup.select('td:nth-child(4)')]\n",
    "exp_ratio = exp_ratio[:140]"
   ]
  },
  {
   "cell_type": "code",
   "execution_count": 8,
   "metadata": {},
   "outputs": [],
   "source": [
    "nav = [i.text for i in soup.select('td:nth-child(5)')]\n",
    "nav = nav[:140]"
   ]
  },
  {
   "cell_type": "code",
   "execution_count": 9,
   "metadata": {},
   "outputs": [],
   "source": [
    "aum = [i.text for i in soup.select('td:nth-child(6)')]\n",
    "aum = aum[:140]"
   ]
  },
  {
   "cell_type": "code",
   "execution_count": 10,
   "metadata": {},
   "outputs": [],
   "source": [
    "df = pd.DataFrame({'name':fund_name,\n",
    "             'ticker':ticker,\n",
    "             'exp_ratio':exp_ratio,\n",
    "             'nav':nav,\n",
    "             'aum':aum})"
   ]
  },
  {
   "cell_type": "code",
   "execution_count": 11,
   "metadata": {
    "scrolled": false
   },
   "outputs": [],
   "source": [
    "links = [\"https://www.ssga.com/us/en/individual/etfs/library-content/products/fund-data/etfs/us/holdings-daily-us-en-\"+ i +\".xlsx\" for i in ticker]"
   ]
  },
  {
   "cell_type": "code",
   "execution_count": 12,
   "metadata": {},
   "outputs": [],
   "source": [
    "df['links'] = links"
   ]
  },
  {
   "cell_type": "code",
   "execution_count": 13,
   "metadata": {},
   "outputs": [
    {
     "data": {
      "text/html": [
       "<div>\n",
       "<style scoped>\n",
       "    .dataframe tbody tr th:only-of-type {\n",
       "        vertical-align: middle;\n",
       "    }\n",
       "\n",
       "    .dataframe tbody tr th {\n",
       "        vertical-align: top;\n",
       "    }\n",
       "\n",
       "    .dataframe thead th {\n",
       "        text-align: right;\n",
       "    }\n",
       "</style>\n",
       "<table border=\"1\" class=\"dataframe\">\n",
       "  <thead>\n",
       "    <tr style=\"text-align: right;\">\n",
       "      <th></th>\n",
       "      <th>name</th>\n",
       "      <th>ticker</th>\n",
       "      <th>exp_ratio</th>\n",
       "      <th>nav</th>\n",
       "      <th>aum</th>\n",
       "      <th>links</th>\n",
       "    </tr>\n",
       "  </thead>\n",
       "  <tbody>\n",
       "    <tr>\n",
       "      <th>0</th>\n",
       "      <td>SPDR® Blackstone / GSO Senior Loan ETF</td>\n",
       "      <td>SRLN</td>\n",
       "      <td>0.70%</td>\n",
       "      <td>$40.87</td>\n",
       "      <td>$1,326.32 M</td>\n",
       "      <td>https://www.ssga.com/us/en/individual/etfs/lib...</td>\n",
       "    </tr>\n",
       "    <tr>\n",
       "      <th>1</th>\n",
       "      <td>SPDR® Bloomberg Barclays 1-10 Year TIPS ETF</td>\n",
       "      <td>TIPX</td>\n",
       "      <td>0.15%</td>\n",
       "      <td>$19.90</td>\n",
       "      <td>$360.27 M</td>\n",
       "      <td>https://www.ssga.com/us/en/individual/etfs/lib...</td>\n",
       "    </tr>\n",
       "    <tr>\n",
       "      <th>2</th>\n",
       "      <td>SPDR® Bloomberg Barclays 1-3 Month T-Bill ETF</td>\n",
       "      <td>BIL</td>\n",
       "      <td>0.1359%</td>\n",
       "      <td>$91.55</td>\n",
       "      <td>$18,717.46 M</td>\n",
       "      <td>https://www.ssga.com/us/en/individual/etfs/lib...</td>\n",
       "    </tr>\n",
       "    <tr>\n",
       "      <th>3</th>\n",
       "      <td>SPDR® Bloomberg Barclays Convertible Securitie...</td>\n",
       "      <td>CWB</td>\n",
       "      <td>0.40%</td>\n",
       "      <td>$48.02</td>\n",
       "      <td>$3,462.56 M</td>\n",
       "      <td>https://www.ssga.com/us/en/individual/etfs/lib...</td>\n",
       "    </tr>\n",
       "    <tr>\n",
       "      <th>4</th>\n",
       "      <td>SPDR® Bloomberg Barclays Emerging Markets Loca...</td>\n",
       "      <td>EBND</td>\n",
       "      <td>0.30%</td>\n",
       "      <td>$24.49</td>\n",
       "      <td>$857.21 M</td>\n",
       "      <td>https://www.ssga.com/us/en/individual/etfs/lib...</td>\n",
       "    </tr>\n",
       "    <tr>\n",
       "      <th>...</th>\n",
       "      <td>...</td>\n",
       "      <td>...</td>\n",
       "      <td>...</td>\n",
       "      <td>...</td>\n",
       "      <td>...</td>\n",
       "      <td>...</td>\n",
       "    </tr>\n",
       "    <tr>\n",
       "      <th>135</th>\n",
       "      <td>The Industrial Select Sector SPDR® Fund</td>\n",
       "      <td>XLI</td>\n",
       "      <td>0.13%</td>\n",
       "      <td>$60.12</td>\n",
       "      <td>$7,324.01 M</td>\n",
       "      <td>https://www.ssga.com/us/en/individual/etfs/lib...</td>\n",
       "    </tr>\n",
       "    <tr>\n",
       "      <th>136</th>\n",
       "      <td>The Materials Select Sector SPDR® Fund</td>\n",
       "      <td>XLB</td>\n",
       "      <td>0.13%</td>\n",
       "      <td>$46.95</td>\n",
       "      <td>$2,210.19 M</td>\n",
       "      <td>https://www.ssga.com/us/en/individual/etfs/lib...</td>\n",
       "    </tr>\n",
       "    <tr>\n",
       "      <th>137</th>\n",
       "      <td>The Real Estate Select Sector SPDR® Fund</td>\n",
       "      <td>XLRE</td>\n",
       "      <td>0.13%</td>\n",
       "      <td>$31.46</td>\n",
       "      <td>$2,792.25 M</td>\n",
       "      <td>https://www.ssga.com/us/en/individual/etfs/lib...</td>\n",
       "    </tr>\n",
       "    <tr>\n",
       "      <th>138</th>\n",
       "      <td>The Technology Select Sector SPDR® Fund</td>\n",
       "      <td>XLK</td>\n",
       "      <td>0.13%</td>\n",
       "      <td>$82.95</td>\n",
       "      <td>$24,222.27 M</td>\n",
       "      <td>https://www.ssga.com/us/en/individual/etfs/lib...</td>\n",
       "    </tr>\n",
       "    <tr>\n",
       "      <th>139</th>\n",
       "      <td>The Utilities Select Sector SPDR® Fund</td>\n",
       "      <td>XLU</td>\n",
       "      <td>0.13%</td>\n",
       "      <td>$55.14</td>\n",
       "      <td>$10,144.55 M</td>\n",
       "      <td>https://www.ssga.com/us/en/individual/etfs/lib...</td>\n",
       "    </tr>\n",
       "  </tbody>\n",
       "</table>\n",
       "<p>140 rows × 6 columns</p>\n",
       "</div>"
      ],
      "text/plain": [
       "                                                  name ticker exp_ratio  \\\n",
       "0               SPDR® Blackstone / GSO Senior Loan ETF   SRLN     0.70%   \n",
       "1          SPDR® Bloomberg Barclays 1-10 Year TIPS ETF   TIPX     0.15%   \n",
       "2        SPDR® Bloomberg Barclays 1-3 Month T-Bill ETF    BIL   0.1359%   \n",
       "3    SPDR® Bloomberg Barclays Convertible Securitie...    CWB     0.40%   \n",
       "4    SPDR® Bloomberg Barclays Emerging Markets Loca...   EBND     0.30%   \n",
       "..                                                 ...    ...       ...   \n",
       "135            The Industrial Select Sector SPDR® Fund    XLI     0.13%   \n",
       "136             The Materials Select Sector SPDR® Fund    XLB     0.13%   \n",
       "137           The Real Estate Select Sector SPDR® Fund   XLRE     0.13%   \n",
       "138            The Technology Select Sector SPDR® Fund    XLK     0.13%   \n",
       "139             The Utilities Select Sector SPDR® Fund    XLU     0.13%   \n",
       "\n",
       "        nav           aum                                              links  \n",
       "0    $40.87   $1,326.32 M  https://www.ssga.com/us/en/individual/etfs/lib...  \n",
       "1    $19.90     $360.27 M  https://www.ssga.com/us/en/individual/etfs/lib...  \n",
       "2    $91.55  $18,717.46 M  https://www.ssga.com/us/en/individual/etfs/lib...  \n",
       "3    $48.02   $3,462.56 M  https://www.ssga.com/us/en/individual/etfs/lib...  \n",
       "4    $24.49     $857.21 M  https://www.ssga.com/us/en/individual/etfs/lib...  \n",
       "..      ...           ...                                                ...  \n",
       "135  $60.12   $7,324.01 M  https://www.ssga.com/us/en/individual/etfs/lib...  \n",
       "136  $46.95   $2,210.19 M  https://www.ssga.com/us/en/individual/etfs/lib...  \n",
       "137  $31.46   $2,792.25 M  https://www.ssga.com/us/en/individual/etfs/lib...  \n",
       "138  $82.95  $24,222.27 M  https://www.ssga.com/us/en/individual/etfs/lib...  \n",
       "139  $55.14  $10,144.55 M  https://www.ssga.com/us/en/individual/etfs/lib...  \n",
       "\n",
       "[140 rows x 6 columns]"
      ]
     },
     "execution_count": 13,
     "metadata": {},
     "output_type": "execute_result"
    }
   ],
   "source": [
    "df"
   ]
  },
  {
   "cell_type": "code",
   "execution_count": null,
   "metadata": {},
   "outputs": [],
   "source": []
  }
 ],
 "metadata": {
  "kernelspec": {
   "display_name": "Python 3",
   "language": "python",
   "name": "python3"
  },
  "language_info": {
   "codemirror_mode": {
    "name": "ipython",
    "version": 3
   },
   "file_extension": ".py",
   "mimetype": "text/x-python",
   "name": "python",
   "nbconvert_exporter": "python",
   "pygments_lexer": "ipython3",
   "version": "3.8.2"
  }
 },
 "nbformat": 4,
 "nbformat_minor": 4
}
