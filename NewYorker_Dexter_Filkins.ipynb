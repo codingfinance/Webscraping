{
 "cells": [
  {
   "cell_type": "markdown",
   "metadata": {},
   "source": [
    "# New Yorker Articles\n",
    "\n",
    "# by Dexter Filkins"
   ]
  },
  {
   "cell_type": "markdown",
   "metadata": {},
   "source": [
    "This notebook contains the script to get the articles written by Dexter Filkins for The New Yorker"
   ]
  },
  {
   "cell_type": "markdown",
   "metadata": {},
   "source": [
    "First import all the libraries"
   ]
  },
  {
   "cell_type": "code",
   "execution_count": 1,
   "metadata": {},
   "outputs": [],
   "source": [
    "import pandas as pd\n",
    "import requests\n",
    "import numpy as np\n",
    "from urllib.request import urlopen\n",
    "from bs4 import BeautifulSoup"
   ]
  },
  {
   "cell_type": "markdown",
   "metadata": {},
   "source": [
    "As of February 2020 the link `https://www.newyorker.com/contributors/dexter-filkins/` contains 13 different pages and the article go back all the way to january 2011. In this notebook we will perform the following actions\n",
    "\n",
    "- Get the headlines and article links for the desired page\n",
    "- Get the specific article written by Dexter"
   ]
  },
  {
   "cell_type": "markdown",
   "metadata": {},
   "source": [
    "Lets get all the headlines and links listed on the first page."
   ]
  },
  {
   "cell_type": "code",
   "execution_count": 2,
   "metadata": {},
   "outputs": [],
   "source": [
    "# Specify page number\n",
    "page = 1\n",
    "\n",
    "# get the html content\n",
    "ny_url = 'https://www.newyorker.com/contributors/dexter-filkins/page/'+str(page)\n",
    "req = urlopen(ny_url)"
   ]
  },
  {
   "cell_type": "code",
   "execution_count": 3,
   "metadata": {},
   "outputs": [],
   "source": [
    "# Create the soup object\n",
    "soup = BeautifulSoup(req.read(), 'lxml')"
   ]
  },
  {
   "cell_type": "code",
   "execution_count": 4,
   "metadata": {
    "scrolled": false
   },
   "outputs": [],
   "source": [
    "# save all the relevant content in a temp variable called _li\n",
    "\n",
    "_li = soup.find_all('li', class_ = \"River__riverItem___3huWr\")"
   ]
  },
  {
   "cell_type": "code",
   "execution_count": 5,
   "metadata": {
    "scrolled": false
   },
   "outputs": [],
   "source": [
    "# Getting all the headlines\n",
    "headlines = []\n",
    "\n",
    "for i in _li:\n",
    "    for j in i.find_all('h4'):\n",
    "        headlines.append(j.text)"
   ]
  },
  {
   "cell_type": "code",
   "execution_count": 6,
   "metadata": {},
   "outputs": [
    {
     "data": {
      "text/plain": [
       "['The Dangers Posed by the Killing of Qassem Suleimani',\n",
       " 'Has Narendra Modi Finally Gone Too Far?',\n",
       " 'Blood and Soil in Narendra Modi’s India',\n",
       " 'How John Bolton Got the Better of President Trump',\n",
       " 'The Moral Logic of Humanitarian Intervention',\n",
       " 'John Bolton on the Warpath',\n",
       " 'Why the War for Kashmir Burns On',\n",
       " 'James Mattis Is Out; What Comes Next?',\n",
       " 'In the Aftermath of Jamal Khashoggi’s Murder, Saudi Arabia Enters a Dangerous Period',\n",
       " 'In the Wake of Khashoggi’s Disappearance, Saudi Arabia’s Crown Prince Is Pushed to the Brink']"
      ]
     },
     "execution_count": 6,
     "metadata": {},
     "output_type": "execute_result"
    }
   ],
   "source": [
    "headlines"
   ]
  },
  {
   "cell_type": "code",
   "execution_count": 7,
   "metadata": {
    "scrolled": false
   },
   "outputs": [],
   "source": [
    "# Getting all the links\n",
    "\n",
    "links = []\n",
    "\n",
    "for i in _li:\n",
    "    _5 = (i.select('.Link__link___3dWao'))\n",
    "    for k in _5:\n",
    "        links.append(k['href'])\n"
   ]
  },
  {
   "cell_type": "code",
   "execution_count": 8,
   "metadata": {},
   "outputs": [
    {
     "name": "stdout",
     "output_type": "stream",
     "text": [
      "['/news/daily-comment', '/news/daily-comment/the-dangers-posed-by-the-killing-of-qassem-suleimani', '/news/daily-comment/the-dangers-posed-by-the-killing-of-qassem-suleimani', '/contributors/dexter-filkins', '/news/daily-comment', '/news/daily-comment/has-narendra-modi-finally-gone-too-far-india-protests', '/news/daily-comment/has-narendra-modi-finally-gone-too-far-india-protests', '/contributors/dexter-filkins', '/magazine/a-reporter-at-large', '/magazine/2019/12/09', '/magazine/2019/12/09/blood-and-soil-in-narendra-modis-india', '/magazine/2019/12/09/blood-and-soil-in-narendra-modis-india', '/contributors/dexter-filkins', '/news/daily-comment', '/news/our-columnists/how-john-bolton-got-the-better-of-president-trump', '/news/our-columnists/how-john-bolton-got-the-better-of-president-trump', '/contributors/dexter-filkins', '/magazine/annals-of-diplomacy', '/magazine/2019/09/16', '/magazine/2019/09/16/the-moral-logic-of-humanitarian-intervention', '/magazine/2019/09/16/the-moral-logic-of-humanitarian-intervention', '/contributors/dexter-filkins', '/magazine/profiles', '/magazine/2019/05/06', '/magazine/2019/05/06/john-bolton-on-the-warpath', '/magazine/2019/05/06/john-bolton-on-the-warpath', '/contributors/dexter-filkins', '/news/news-desk', '/news/news-desk/why-the-war-between-india-and-pakistan-for-kashmir-burns-on', '/news/news-desk/why-the-war-between-india-and-pakistan-for-kashmir-burns-on', '/contributors/dexter-filkins', '/news/news-desk', '/news/news-desk/james-mattis-is-out-what-comes-next', '/news/news-desk/james-mattis-is-out-what-comes-next', '/contributors/dexter-filkins', '/news/news-desk', '/news/news-desk/in-the-aftermath-of-khashoggis-murder-saudi-arabia-enters-a-dangerous-period', '/news/news-desk/in-the-aftermath-of-khashoggis-murder-saudi-arabia-enters-a-dangerous-period', '/contributors/dexter-filkins', '/news/daily-comment', '/news/news-desk/in-the-wake-of-khashoggis-disappearance-saudi-arabias-crown-prince-is-pushed-to-the-brink', '/news/news-desk/in-the-wake-of-khashoggis-disappearance-saudi-arabias-crown-prince-is-pushed-to-the-brink', '/contributors/dexter-filkins']\n"
     ]
    }
   ],
   "source": [
    "print(links)"
   ]
  },
  {
   "cell_type": "markdown",
   "metadata": {},
   "source": [
    "There is lot of unwanted informations. So we will try and get the relavant links."
   ]
  },
  {
   "cell_type": "code",
   "execution_count": 9,
   "metadata": {
    "scrolled": false
   },
   "outputs": [],
   "source": [
    "# Create a new variable that selects longer links. New Yorker uses longer\n",
    "# links for the articles\n",
    "\n",
    "# Get links where length is greater than 30\n",
    "links2 = np.array(links)[np.array([len(i) > 30 for i in links])]\n",
    "\n",
    "# Remove the duplicates and save the index positions\n",
    "_, idx = np.unique(links2, return_index = True)\n",
    "\n",
    "# get the links by index positions\n",
    "\n",
    "links2 = links2[np.sort(idx)]"
   ]
  },
  {
   "cell_type": "code",
   "execution_count": 10,
   "metadata": {},
   "outputs": [
    {
     "data": {
      "text/plain": [
       "10"
      ]
     },
     "execution_count": 10,
     "metadata": {},
     "output_type": "execute_result"
    }
   ],
   "source": [
    "# Check the length of links\n",
    "len(links2)"
   ]
  },
  {
   "cell_type": "code",
   "execution_count": 11,
   "metadata": {},
   "outputs": [
    {
     "data": {
      "text/plain": [
       "10"
      ]
     },
     "execution_count": 11,
     "metadata": {},
     "output_type": "execute_result"
    }
   ],
   "source": [
    "# Check the lenght of headlines\n",
    "\n",
    "len(headlines)"
   ]
  },
  {
   "cell_type": "markdown",
   "metadata": {},
   "source": [
    "They match so lets create a new data frame with the links and headlines."
   ]
  },
  {
   "cell_type": "code",
   "execution_count": 12,
   "metadata": {},
   "outputs": [],
   "source": [
    "df = pd.DataFrame({'headlines':headlines,\n",
    "             'links':links2})"
   ]
  },
  {
   "cell_type": "code",
   "execution_count": 13,
   "metadata": {},
   "outputs": [],
   "source": [
    "# Add \"https://www.newyorker.com\" to the links\n",
    "\n",
    "df['links'] = \"https://www.newyorker.com\" + df['links']"
   ]
  },
  {
   "cell_type": "code",
   "execution_count": 14,
   "metadata": {},
   "outputs": [
    {
     "data": {
      "text/html": [
       "<div>\n",
       "<style scoped>\n",
       "    .dataframe tbody tr th:only-of-type {\n",
       "        vertical-align: middle;\n",
       "    }\n",
       "\n",
       "    .dataframe tbody tr th {\n",
       "        vertical-align: top;\n",
       "    }\n",
       "\n",
       "    .dataframe thead th {\n",
       "        text-align: right;\n",
       "    }\n",
       "</style>\n",
       "<table border=\"1\" class=\"dataframe\">\n",
       "  <thead>\n",
       "    <tr style=\"text-align: right;\">\n",
       "      <th></th>\n",
       "      <th>headlines</th>\n",
       "      <th>links</th>\n",
       "    </tr>\n",
       "  </thead>\n",
       "  <tbody>\n",
       "    <tr>\n",
       "      <th>0</th>\n",
       "      <td>The Dangers Posed by the Killing of Qassem Sul...</td>\n",
       "      <td>https://www.newyorker.com/news/daily-comment/t...</td>\n",
       "    </tr>\n",
       "    <tr>\n",
       "      <th>1</th>\n",
       "      <td>Has Narendra Modi Finally Gone Too Far?</td>\n",
       "      <td>https://www.newyorker.com/news/daily-comment/h...</td>\n",
       "    </tr>\n",
       "    <tr>\n",
       "      <th>2</th>\n",
       "      <td>Blood and Soil in Narendra Modi’s India</td>\n",
       "      <td>https://www.newyorker.com/magazine/2019/12/09/...</td>\n",
       "    </tr>\n",
       "    <tr>\n",
       "      <th>3</th>\n",
       "      <td>How John Bolton Got the Better of President Trump</td>\n",
       "      <td>https://www.newyorker.com/news/our-columnists/...</td>\n",
       "    </tr>\n",
       "    <tr>\n",
       "      <th>4</th>\n",
       "      <td>The Moral Logic of Humanitarian Intervention</td>\n",
       "      <td>https://www.newyorker.com/magazine/2019/09/16/...</td>\n",
       "    </tr>\n",
       "    <tr>\n",
       "      <th>5</th>\n",
       "      <td>John Bolton on the Warpath</td>\n",
       "      <td>https://www.newyorker.com/magazine/2019/05/06/...</td>\n",
       "    </tr>\n",
       "    <tr>\n",
       "      <th>6</th>\n",
       "      <td>Why the War for Kashmir Burns On</td>\n",
       "      <td>https://www.newyorker.com/news/news-desk/why-t...</td>\n",
       "    </tr>\n",
       "    <tr>\n",
       "      <th>7</th>\n",
       "      <td>James Mattis Is Out; What Comes Next?</td>\n",
       "      <td>https://www.newyorker.com/news/news-desk/james...</td>\n",
       "    </tr>\n",
       "    <tr>\n",
       "      <th>8</th>\n",
       "      <td>In the Aftermath of Jamal Khashoggi’s Murder, ...</td>\n",
       "      <td>https://www.newyorker.com/news/news-desk/in-th...</td>\n",
       "    </tr>\n",
       "    <tr>\n",
       "      <th>9</th>\n",
       "      <td>In the Wake of Khashoggi’s Disappearance, Saud...</td>\n",
       "      <td>https://www.newyorker.com/news/news-desk/in-th...</td>\n",
       "    </tr>\n",
       "  </tbody>\n",
       "</table>\n",
       "</div>"
      ],
      "text/plain": [
       "                                           headlines  \\\n",
       "0  The Dangers Posed by the Killing of Qassem Sul...   \n",
       "1            Has Narendra Modi Finally Gone Too Far?   \n",
       "2            Blood and Soil in Narendra Modi’s India   \n",
       "3  How John Bolton Got the Better of President Trump   \n",
       "4       The Moral Logic of Humanitarian Intervention   \n",
       "5                         John Bolton on the Warpath   \n",
       "6                   Why the War for Kashmir Burns On   \n",
       "7              James Mattis Is Out; What Comes Next?   \n",
       "8  In the Aftermath of Jamal Khashoggi’s Murder, ...   \n",
       "9  In the Wake of Khashoggi’s Disappearance, Saud...   \n",
       "\n",
       "                                               links  \n",
       "0  https://www.newyorker.com/news/daily-comment/t...  \n",
       "1  https://www.newyorker.com/news/daily-comment/h...  \n",
       "2  https://www.newyorker.com/magazine/2019/12/09/...  \n",
       "3  https://www.newyorker.com/news/our-columnists/...  \n",
       "4  https://www.newyorker.com/magazine/2019/09/16/...  \n",
       "5  https://www.newyorker.com/magazine/2019/05/06/...  \n",
       "6  https://www.newyorker.com/news/news-desk/why-t...  \n",
       "7  https://www.newyorker.com/news/news-desk/james...  \n",
       "8  https://www.newyorker.com/news/news-desk/in-th...  \n",
       "9  https://www.newyorker.com/news/news-desk/in-th...  "
      ]
     },
     "execution_count": 14,
     "metadata": {},
     "output_type": "execute_result"
    }
   ],
   "source": [
    "df.head(10)"
   ]
  },
  {
   "cell_type": "markdown",
   "metadata": {},
   "source": [
    "We have our data frame. In the below cell just change `n` to the desired article number."
   ]
  },
  {
   "cell_type": "code",
   "execution_count": 15,
   "metadata": {
    "scrolled": false
   },
   "outputs": [
    {
     "name": "stdout",
     "output_type": "stream",
     "text": [
      "By Dexter Filkins \n",
      "The killing of Qassem Suleimani, the Iranian commander targeted by an American strike Thursday night, is the most consequential act taken against the regime in Tehran in thirty years—even if we don’t know what those consequences will be. One thing is clear: we’re entering a dangerous period, in which the conflict between the two countries could easily spin out of control.\n",
      "Suleimani’s biography as a pivotal figure in Iran and the region is well known. Since the late nineteen-nineties, he was engaged in trying to remake the Middle East to Iran’s advantage, directing his proxies to kill or dispatch anyone who impeded his vision of an Iranian-dominated sphere of influence stretching from Tehran to the Mediterranean Sea. He was remarkably successful, legendary even—certainly the most influential operative in the region in modern times. He was involved in sponsoring terrorist attacks, propping up despots like Bashar al-Assad in Syria, helping to assassinate at least one foreign leader—the Prime Minister of Lebanon, Rafik Hariri—and killing hundreds of American soldiers along the way. In the latter years of the American war in Iraq, Suleimani’s militias deployed a particularly bloody weapon against U.S. soldiers—the “explosively formed penetrator,” or E.F.P.—which tore through the armor of U.S. military vehicles and wreaked havoc on soldiers and marines. It was no small irony that he died on the road to the Baghdad International Airport, where so many Americans soldiers and Iraqis died by ambush.\n",
      "Suleimani’s death is a heavy blow to the Iranian regime. He was not just the central figure in the country’s foreign policy and military; he was also considered a pillar of the Revolution itself. Since 1979, Iran has regarded its defense against foreign enemies, particularly the United States, as central to its survival. Suleimani’s vision of the region was formed in the nineteen-eighties, during the Iran-Iraq War, which left more than a million people dead and for which the Iranians, not entirely without reason, blamed the U.S. and its allies. Suleimani, a veteran of that war, vowed that nothing like it would happen to Iran again, and he built the Quds Force—a wing of the Revolutionary Guard—into a small, mobile army capable of waging asymmetric warfare against the country’s enemies, including the United States. When I asked Ryan Crocker, a veteran American diplomat, what motivated Suleimani, he said that it was love of country—and also something more visceral: “Nationalism drives him, and the love of the fight.”\n",
      "U.S. officials from previous Administrations have said that Suleimani did not live as a well-guarded recluse like Osama bin Laden, in Pakistan, and the military could have killed him; but the U.S. decided that it was not worth provoking a large-scale retaliation. “Suleimani was lucky,’’ Meir Dagan, the former head of Mossad, the Israeli intelligence agency, once told me. “It’s important to be lucky.” (Dagan died in 2016.)\n",
      "READ MORE\n",
      "Read Dexter Filkins’s 2013 Profile of Qassem Suleimani.\n",
      "Suleimani has been replaced by his longtime deputy, but it’s not clear that any commander in Iran is his equal in guile or status. He was as skilled in diplomacy as he was on the battlefield, and as comfortable with diplomats as he was with front-line soldiers, whom he adored. And he had an especially close relationship with Ayatollah Ali Khamenei, Iran’s Supreme Leader. “A guy like Suleimani—they don’t have any more like him,’’ John Maguire, a twenty-three-year veteran of the C.I.A. specializing in the Middle East, told me. Maguire is one of the few Americans ever to come to face to face with Suleimani. They met in Baghdad, in 2004, when Iraqi politicians were trying to broker a rapprochement between the U.S. and Iran. “He had a command presence,” Maguire said. “He walked into the room and you could feel him.”\n",
      "In Iraq, Suleimani had four deputies, who helped oversee the Shiite militias who have, most recently, been leading demonstrations against the American Embassy. The leader of one of those militias, Abu Mahdi al-Muhandis, of Kata’ib Hezbollah, died in the same strike as Suleimani. Muhandis has a long record of attacking Americans, too, beginning with the bombing of the American and French Embassies in Kuwait, in 1983. Kata’ib Hezbollah—an organization backed, trained, armed, and directed by Suleimani—is responsible for the deaths of scores of American soldiers in Iraq. Ever since the Trump Administration walked away from the nuclear deal signed under the Obama Administration, the U.S. and Iran have engaged in a series of provocative acts. By killing Suleimani, the Trump Administration has risked a wider, more unpredictable conflict, which could flare in many places and in many ways. It’s hard to imagine that the Iranian regime won’t respond to the American strike—it will feel that it has to. But where, and how? Maguire told me that the Quds Force has long specialized in two tactics: hostage-taking and truck-bombing. But the Americans are so well fortified in Iraq (and across the Middle East), and the American military presence in Iraq is so robust, that it’s more possible that the Iranians, if they decide to retaliate, will do so elsewhere. “It’s a better bet that they will choose another place—somewhere where the Americans are not as well protected,’’ he said. Maguire told me that he is not convinced that the Iranians will respond right away, or even at all, because of the deep sense of shock of losing Suleimani. “It’s a body blow to the regime,’’ he said. The biggest danger, of course, is that the Iranians respond, and possibly miscalculate, and then the United States does the same. That’s how wars start.\n",
      "President Trump said on Friday, as he has previously, that the U.S. is not seeking war or regime change in Iran. Yet, since taking office, the Trump Administration has made regime change its implicit policy. By pulling out of the Iranian nuclear accord and imposing crippling sanctions on the country, Trump’s advisers have wagered that they can bring the regime down. By killing Suleimani, the Administration has taken the fight directly to its leadership.\n",
      "Will be used in accordance with our Privacy Policy.\n",
      "Qassem Suleimani is the Iranian operative who has been reshaping the Middle East. Now he’s directing Assad’s war in Syria.\n",
      "By Dexter Filkins \n",
      "The death of the leader of Iran’s élite Quds Force capped a week of hostilities between the United States and Iran which escalated with lightning speed.\n",
      "By Robin Wright \n",
      "After six months of unrest, anti-Beijing protesters are increasingly unwilling to compromise. With fierce and sometimes violent debate redefining the region, where will the movement end up? Jiayang Fan reports.\n",
      "By The New Yorker \n",
      "Sections\n",
      "More\n",
      "© 2020 Condé Nast. All rights reserved. Use of this site constitutes acceptance of our User Agreement (updated 1/1/20) and Privacy Policy and Cookie Statement (updated 1/1/20) and Your California Privacy Rights. Do Not Sell My Personal Information The New Yorker may earn a portion of sales from products that are purchased through our site as part of our Affiliate Partnerships with retailers. The material on this site may not be reproduced, distributed, transmitted, cached or otherwise used, except with the prior written permission of Condé Nast. Ad Choices\n"
     ]
    }
   ],
   "source": [
    "#Type article number\n",
    "n = 0\n",
    "\n",
    "# Get the article html page\n",
    "tmp_article = requests.get(df['links'][n])\n",
    "\n",
    "# Create soup object\n",
    "soup = BeautifulSoup(tmp_article.text,'lxml')\n",
    "\n",
    "# Get the article\n",
    "for i in soup.find_all('p'):\n",
    "    article = (i.text)\n",
    "    print(article)"
   ]
  },
  {
   "cell_type": "code",
   "execution_count": null,
   "metadata": {},
   "outputs": [],
   "source": []
  }
 ],
 "metadata": {
  "kernelspec": {
   "display_name": "nlp_course",
   "language": "python",
   "name": "nlp_course"
  },
  "language_info": {
   "codemirror_mode": {
    "name": "ipython",
    "version": 3
   },
   "file_extension": ".py",
   "mimetype": "text/x-python",
   "name": "python",
   "nbconvert_exporter": "python",
   "pygments_lexer": "ipython3",
   "version": "3.7.6"
  }
 },
 "nbformat": 4,
 "nbformat_minor": 4
}
