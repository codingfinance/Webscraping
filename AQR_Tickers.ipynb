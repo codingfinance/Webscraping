{
 "cells": [
  {
   "cell_type": "code",
   "execution_count": 9,
   "metadata": {},
   "outputs": [],
   "source": [
    "import bs4 as bs\n",
    "from urllib.request import urlopen"
   ]
  },
  {
   "cell_type": "code",
   "execution_count": 50,
   "metadata": {},
   "outputs": [
    {
     "data": {
      "text/plain": [
       "['ASAIX', 'QTELX', 'ANDIX', 'AQRRX', 'QTLRX']"
      ]
     },
     "execution_count": 50,
     "metadata": {},
     "output_type": "execute_result"
    }
   ],
   "source": [
    "url = requests.get('https://funds.aqr.com/fund-finder')\n",
    "\n",
    "soup = bs.BeautifulSoup(url.text,'html.parser')\n",
    "\n",
    "name_list = soup.findAll('td',{'class':'desktop-only'})\n",
    "\n",
    "tickers = [name.get_text().split(' ')[0] for name in name_list]\n",
    "\n",
    "# for name in name_list:\n",
    "#     print(name.get_text().split(' ')[0])\n",
    "\n",
    "tickers = list(set(tickers))\n",
    "\n",
    "tickers = tickers[1:]\n"
   ]
  },
  {
   "cell_type": "code",
   "execution_count": 78,
   "metadata": {},
   "outputs": [],
   "source": [
    "url = requests.get('https://www.schwab.wallst.com/Prospect/Research/MutualFunds/Summary.asp?symbol=QTLRX')"
   ]
  },
  {
   "cell_type": "code",
   "execution_count": 79,
   "metadata": {},
   "outputs": [],
   "source": [
    "soup = bs.BeautifulSoup(url.text, 'html.parser')"
   ]
  },
  {
   "cell_type": "code",
   "execution_count": 88,
   "metadata": {},
   "outputs": [
    {
     "ename": "AttributeError",
     "evalue": "ResultSet object has no attribute 'get_text'. You're probably treating a list of items like a single item. Did you call find_all() when you meant to call find()?",
     "output_type": "error",
     "traceback": [
      "\u001b[0;31m---------------------------------------------------------------------------\u001b[0m",
      "\u001b[0;31mAttributeError\u001b[0m                            Traceback (most recent call last)",
      "\u001b[0;32m<ipython-input-88-e7b00aefbe32>\u001b[0m in \u001b[0;36m<module>\u001b[0;34m()\u001b[0m\n\u001b[1;32m      1\u001b[0m \u001b[0mexp_list\u001b[0m \u001b[0;34m=\u001b[0m \u001b[0msoup\u001b[0m\u001b[0;34m.\u001b[0m\u001b[0mfind_all\u001b[0m\u001b[0;34m(\u001b[0m\u001b[0;34m'td'\u001b[0m\u001b[0;34m)\u001b[0m\u001b[0;34m\u001b[0m\u001b[0m\n\u001b[1;32m      2\u001b[0m \u001b[0;32mfor\u001b[0m \u001b[0mexps\u001b[0m \u001b[0;32min\u001b[0m \u001b[0mexp_list\u001b[0m\u001b[0;34m:\u001b[0m\u001b[0;34m\u001b[0m\u001b[0m\n\u001b[0;32m----> 3\u001b[0;31m     \u001b[0mprint\u001b[0m\u001b[0;34m(\u001b[0m\u001b[0mexp_list\u001b[0m\u001b[0;34m.\u001b[0m\u001b[0mget_text\u001b[0m\u001b[0;34m(\u001b[0m\u001b[0;34m)\u001b[0m\u001b[0;34m)\u001b[0m\u001b[0;34m\u001b[0m\u001b[0m\n\u001b[0m",
      "\u001b[0;32m/usr/local/Caskroom/miniconda/base/envs/env_zipline/lib/python3.5/site-packages/bs4/element.py\u001b[0m in \u001b[0;36m__getattr__\u001b[0;34m(self, key)\u001b[0m\n\u001b[1;32m   1882\u001b[0m     \u001b[0;32mdef\u001b[0m \u001b[0m__getattr__\u001b[0m\u001b[0;34m(\u001b[0m\u001b[0mself\u001b[0m\u001b[0;34m,\u001b[0m \u001b[0mkey\u001b[0m\u001b[0;34m)\u001b[0m\u001b[0;34m:\u001b[0m\u001b[0;34m\u001b[0m\u001b[0m\n\u001b[1;32m   1883\u001b[0m         raise AttributeError(\n\u001b[0;32m-> 1884\u001b[0;31m             \u001b[0;34m\"ResultSet object has no attribute '%s'. You're probably treating a list of items like a single item. Did you call find_all() when you meant to call find()?\"\u001b[0m \u001b[0;34m%\u001b[0m \u001b[0mkey\u001b[0m\u001b[0;34m\u001b[0m\u001b[0m\n\u001b[0m\u001b[1;32m   1885\u001b[0m         )\n",
      "\u001b[0;31mAttributeError\u001b[0m: ResultSet object has no attribute 'get_text'. You're probably treating a list of items like a single item. Did you call find_all() when you meant to call find()?"
     ]
    }
   ],
   "source": [
    "exp_list = soup.find_all('td')\n",
    "# for exps in exp_list:\n",
    "#     print(exp_list.get_text())"
   ]
  },
  {
   "cell_type": "code",
   "execution_count": 89,
   "metadata": {
    "scrolled": false
   },
   "outputs": [
    {
     "data": {
      "text/plain": [
       "[<td class=\"contain\" id=\"symbolDescBlock\"><h2 class=\"fleft\">AQR TM Large Cap Multi-Style Fund Class R6 <span class=\"ticker\">QTLRX</span></h2></td>,\n",
       " <td style=\"\" width=\"0\"><div class=\"firstGlanceBadges\"></div></td>,\n",
       " <td>NAV</td>,\n",
       " <td>Change</td>,\n",
       " <td>Net Expense Ratio</td>,\n",
       " <td>YTD Return<a class=\"iconMargin spr sprHelp\" hopupref=\"MFYTDReturn\" href=\"javascript: void(0)\"></a><div class=\"generalHopup none\" id=\"MFYTDReturn\" style=\"white-space:normal;\"><div class=\"hopupShadow1\"><div class=\"hopupShadow2\"><div class=\"hopupContent\" style=\"left:300px;\"><span><strong>YTD Return</strong> is adjusted for possible sales charges, and assumes reinvestment of dividends and capital gains.</span></div></div></div></div></td>,\n",
       " <td>$13.88</td>,\n",
       " <td><span class=\"negative\">-0.09</span> <span class=\"negative\">(-0.64%)</span></td>,\n",
       " <td>0.35%</td>,\n",
       " <td>21.23%</td>,\n",
       " <td class=\"asOfDate\" colspan=\"3\">Quote data as of close 01/03/2020</td>,\n",
       " <td class=\"asOfDate fright\">As of 11/30/2019</td>,\n",
       " <td><img alt=\"Prospectus\" class=\"floatLeft\" src=\"/schwab/Prospect/research/resources/img/reports.mfProspectusSm.gif\"/> <a class=\"popup floatRight iconPadding\" href=\"http://doc.morningstar.com/docdetail.aspx?clientid=schwab&amp;key=84b36f1bf3830e07&amp;cusip=00191K732\" winparams=\"{model:'report'}\">Prospectus</a></td>,\n",
       " <td><img alt=\"Report Card\" class=\"floatLeft\" src=\"/schwab/Prospect/research/resources/img/reports.mfReportCardSm.gif\"/> <a class=\"popup floatRight iconPadding\" href=\"//www.schwab.wallst.com/Prospect/Research/mutualfunds/reports/reportRetrieve.asp?symbol=QTLRX&amp;reportType=mfrc&amp;FundName=AQR%20TM%20Large%20Cap%20Multi-Style%20Fund%20Class%20R6\" target=\"_blank\" winparams=\"{model:'report'}\">Mutual Fund<br/>Report Card</a></td>,\n",
       " <td>$11.08 - $14.13</td>,\n",
       " <td><div>0.00%</div><div class=\"standardText3\">as of 01/03/2020</div></td>,\n",
       " <td>0.39%</td>,\n",
       " <td>0.35%</td>,\n",
       " <td>--</td>,\n",
       " <td>--</td>,\n",
       " <td>1.31%</td>,\n",
       " <td>$0.2540</td>,\n",
       " <td>Restricted- Call For Information</td>,\n",
       " <td>2015</td>,\n",
       " <td>$50,000,000</td>,\n",
       " <td>$1</td>,\n",
       " <td>$50,000,000</td>,\n",
       " <td>$1</td>,\n",
       " <td>$50,000,000</td>,\n",
       " <td>$1</td>,\n",
       " <td class=\"fontHeavy\">02/11/2015</td>,\n",
       " <td class=\"fontHeavy\">$329.0M</td>,\n",
       " <td class=\"fontHeavy\">232</td>,\n",
       " <td class=\"fontHeavy\">59%</td>,\n",
       " <td class=\"fontHeavy\">AQR Funds</td>,\n",
       " <td class=\"fontHeavy\">No</td>,\n",
       " <td class=\"fontHeavy\">No</td>,\n",
       " <td class=\"fontHeavy\">No</td>,\n",
       " <td class=\"description\"><a href=\"//www.schwab.com/public/schwab/investing/investment_help/investment_research/markets/markets.html?path=%2FResearch%2FPublic%2FMarkets%2FIndustries%2F\" target=\"_top\">Information Technology</a></td>,\n",
       " <td class=\"percentAssets\" tsraw=\"24.93\"><div class=\"values\">24.93%</div><div class=\"barContainer\"><div class=\"bar\" style=\"border-right-width:120px\"> </div></div></td>,\n",
       " <td class=\"description\"><a href=\"//www.schwab.com/public/schwab/investing/investment_help/investment_research/markets/markets.html?path=%2FResearch%2FPublic%2FMarkets%2FIndustries%2F\" target=\"_top\">Financials</a></td>,\n",
       " <td class=\"percentAssets\" tsraw=\"18.76\"><div class=\"values\">18.76%</div><div class=\"barContainer\"><div class=\"bar\" style=\"border-right-width:90px\"> </div></div></td>,\n",
       " <td class=\"description\"><a href=\"//www.schwab.com/public/schwab/investing/investment_help/investment_research/markets/markets.html?path=%2FResearch%2FPublic%2FMarkets%2FIndustries%2F\" target=\"_top\">Health Care</a></td>,\n",
       " <td class=\"percentAssets\" tsraw=\"16.12\"><div class=\"values\">16.12%</div><div class=\"barContainer\"><div class=\"bar\" style=\"border-right-width:78px\"> </div></div></td>,\n",
       " <td class=\"description\"><a href=\"//www.schwab.com/public/schwab/investing/investment_help/investment_research/markets/markets.html?path=%2FResearch%2FPublic%2FMarkets%2FIndustries%2F\" target=\"_top\">Consumer Discretionary</a></td>,\n",
       " <td class=\"percentAssets\" tsraw=\"10.05\"><div class=\"values\">10.05%</div><div class=\"barContainer\"><div class=\"bar\" style=\"border-right-width:48px\"> </div></div></td>,\n",
       " <td class=\"description\"><a href=\"//www.schwab.com/public/schwab/investing/investment_help/investment_research/markets/markets.html?path=%2FResearch%2FPublic%2FMarkets%2FIndustries%2F\" target=\"_top\">Communication Services</a></td>,\n",
       " <td class=\"percentAssets\" tsraw=\"10\"><div class=\"values\">10.00%</div><div class=\"barContainer\"><div class=\"bar\" style=\"border-right-width:48px\"> </div></div></td>,\n",
       " <td class=\"description\"><a href=\"//www.schwab.com/public/schwab/investing/investment_help/investment_research/markets/markets.html?path=%2FResearch%2FPublic%2FMarkets%2FIndustries%2F\" target=\"_top\">Consumer Staples</a></td>,\n",
       " <td class=\"percentAssets\" tsraw=\"8.05\"><div class=\"values\">8.05%</div><div class=\"barContainer\"><div class=\"bar\" style=\"border-right-width:39px\"> </div></div></td>,\n",
       " <td class=\"description\"><a href=\"//www.schwab.com/public/schwab/investing/investment_help/investment_research/markets/markets.html?path=%2FResearch%2FPublic%2FMarkets%2FIndustries%2F\" target=\"_top\">Industrials</a></td>,\n",
       " <td class=\"percentAssets\" tsraw=\"7.11\"><div class=\"values\">7.11%</div><div class=\"barContainer\"><div class=\"bar\" style=\"border-right-width:34px\"> </div></div></td>,\n",
       " <td class=\"description\"><a href=\"//www.schwab.com/public/schwab/investing/investment_help/investment_research/markets/markets.html?path=%2FResearch%2FPublic%2FMarkets%2FIndustries%2F\" target=\"_top\">Utilities</a></td>,\n",
       " <td class=\"percentAssets\" tsraw=\"3.95\"><div class=\"values\">3.95%</div><div class=\"barContainer\"><div class=\"bar\" style=\"border-right-width:19px\"> </div></div></td>,\n",
       " <td class=\"description\"><a href=\"//www.schwab.com/public/schwab/investing/investment_help/investment_research/markets/markets.html?path=%2FResearch%2FPublic%2FMarkets%2FIndustries%2F\" target=\"_top\">Energy</a></td>,\n",
       " <td class=\"percentAssets\" tsraw=\"0.45\"><div class=\"values\">0.45%</div><div class=\"barContainer\"><div class=\"bar\" style=\"border-right-width:2px\"> </div></div></td>,\n",
       " <td class=\"description\"><a href=\"//www.schwab.com/public/schwab/investing/investment_help/investment_research/markets/markets.html?path=%2FResearch%2FPublic%2FMarkets%2FIndustries%2F\" target=\"_top\">Materials</a></td>,\n",
       " <td class=\"percentAssets\" tsraw=\"0.41\"><div class=\"values\">0.41%</div><div class=\"barContainer\"><div class=\"bar\" style=\"border-right-width:2px\"> </div></div></td>,\n",
       " <td colspan=\"2\"><div class=\"fright\"><a class=\"largeFooterLink fright\" href=\"//www.schwab.com/public/schwab/investing/investment_help/investment_research/mutual_fund_research/mutual_funds.html?path=%2FProspect%2FResearch%2Fmutualfunds%2Fportfolio.asp%3Fsymbol%3DQTLRX\" target=\"_top\">View Portfolio</a></div></td>,\n",
       " <td class=\"msStyleBox\"></td>,\n",
       " <td class=\"msStyleBox selected\"></td>,\n",
       " <td class=\"msStyleBox\"></td>,\n",
       " <td class=\"rowLabel\">Large</td>,\n",
       " <td class=\"axisLabel\"></td>,\n",
       " <td class=\"msStyleBox\"></td>,\n",
       " <td class=\"msStyleBox\"></td>,\n",
       " <td class=\"msStyleBox\"></td>,\n",
       " <td class=\"rowLabel\">Mid</td>,\n",
       " <td class=\"axisLabel\">Market Cap</td>,\n",
       " <td class=\"msStyleBox\"></td>,\n",
       " <td class=\"msStyleBox\"></td>,\n",
       " <td class=\"msStyleBox\"></td>,\n",
       " <td class=\"rowLabel\">Small</td>,\n",
       " <td class=\"axisLabel\"></td>,\n",
       " <td class=\"colLabel\">Value</td>,\n",
       " <td class=\"colLabel\">Blend</td>,\n",
       " <td class=\"colLabel\">Growth</td>,\n",
       " <td class=\"axisLabel bottomAxisLabel\" colspan=\"3\">Investment Style</td>]"
      ]
     },
     "execution_count": 89,
     "metadata": {},
     "output_type": "execute_result"
    }
   ],
   "source": [
    "exp_list"
   ]
  },
  {
   "cell_type": "code",
   "execution_count": null,
   "metadata": {},
   "outputs": [],
   "source": []
  }
 ],
 "metadata": {
  "kernelspec": {
   "display_name": "Python 3",
   "language": "python",
   "name": "python3"
  },
  "language_info": {
   "codemirror_mode": {
    "name": "ipython",
    "version": 3
   },
   "file_extension": ".py",
   "mimetype": "text/x-python",
   "name": "python",
   "nbconvert_exporter": "python",
   "pygments_lexer": "ipython3",
   "version": "3.7.5"
  }
 },
 "nbformat": 4,
 "nbformat_minor": 2
}
