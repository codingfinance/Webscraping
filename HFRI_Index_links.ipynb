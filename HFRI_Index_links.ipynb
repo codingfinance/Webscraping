{
 "cells": [
  {
   "cell_type": "markdown",
   "metadata": {},
   "source": [
    "Import the libraries"
   ]
  },
  {
   "cell_type": "code",
   "execution_count": 1,
   "metadata": {},
   "outputs": [],
   "source": [
    "from selenium import webdriver\n",
    "from selenium.webdriver.firefox import options\n",
    "import requests\n",
    "from urllib.request import urlretrieve\n",
    "from bs4 import BeautifulSoup\n",
    "import re\n",
    "import numpy \n",
    "import time"
   ]
  },
  {
   "cell_type": "markdown",
   "metadata": {},
   "source": [
    "Get all the links of all the pages we are interested in."
   ]
  },
  {
   "cell_type": "code",
   "execution_count": 2,
   "metadata": {},
   "outputs": [],
   "source": [
    "def get_download_links():\n",
    "    \n",
    "    session = requests.Session()\n",
    "    \n",
    "    response = session.get(\"https://www.hedgefundresearch.com/indices/hfri-500-fund-weighted-composite-index\")\n",
    "    \n",
    "    soup = BeautifulSoup(response.text, 'lxml')\n",
    "\n",
    "    links = []\n",
    "\n",
    "    for link in soup.find_all(\"a\", href = re.compile('^/download')):\n",
    "        if 'href' in link.attrs:\n",
    "            links.append(str('https://www.hedgefundresearch.com') + link['href'])\n",
    "            \n",
    "    return links"
   ]
  },
  {
   "cell_type": "code",
   "execution_count": 3,
   "metadata": {},
   "outputs": [],
   "source": [
    "links = get_download_links()"
   ]
  },
  {
   "cell_type": "code",
   "execution_count": 4,
   "metadata": {},
   "outputs": [
    {
     "data": {
      "text/plain": [
       "['https://www.hedgefundresearch.com/download-hfri-500-indices-performance-data',\n",
       " 'https://www.hedgefundresearch.com/download-hfri-institutional-indices-performance-data',\n",
       " 'https://www.hedgefundresearch.com/download-hfri-i-indices-performance-data',\n",
       " 'https://www.hedgefundresearch.com/download-hfrx-index-performance-data',\n",
       " 'https://www.hedgefundresearch.com/download-hfri-index-performance-data',\n",
       " 'https://www.hedgefundresearch.com/download-bank-systematic-hfr-risk-premia-indices-performance-data',\n",
       " 'https://www.hedgefundresearch.com/download-hfr-risk-parity-indices-performance-data',\n",
       " 'https://www.hedgefundresearch.com/download-hfr-blockchain-indices-performance-data',\n",
       " 'https://www.hedgefundresearch.com/download-hfru-index-performance-data',\n",
       " 'https://www.hedgefundresearch.com/download-hfri-500-indices-performance-data',\n",
       " 'https://www.hedgefundresearch.com/download-hfri-institutional-indices-performance-data',\n",
       " 'https://www.hedgefundresearch.com/download-hfri-i-indices-performance-data',\n",
       " 'https://www.hedgefundresearch.com/download-hfrx-index-performance-data',\n",
       " 'https://www.hedgefundresearch.com/download-hfri-index-performance-data',\n",
       " 'https://www.hedgefundresearch.com/download-bank-systematic-hfr-risk-premia-indices-performance-data',\n",
       " 'https://www.hedgefundresearch.com/download-hfr-risk-parity-indices-performance-data',\n",
       " 'https://www.hedgefundresearch.com/download-hfr-blockchain-indices-performance-data',\n",
       " 'https://www.hedgefundresearch.com/download-hfru-index-performance-data']"
      ]
     },
     "execution_count": 4,
     "metadata": {},
     "output_type": "execute_result"
    }
   ],
   "source": [
    "links"
   ]
  },
  {
   "cell_type": "markdown",
   "metadata": {},
   "source": [
    "Set selenium options, so that we have a headless browser."
   ]
  },
  {
   "cell_type": "code",
   "execution_count": 5,
   "metadata": {},
   "outputs": [],
   "source": [
    "opt = options.Options()\n",
    "opt.headless = True"
   ]
  },
  {
   "cell_type": "markdown",
   "metadata": {},
   "source": [
    "Open a selenium webdriver in headless mode"
   ]
  },
  {
   "cell_type": "code",
   "execution_count": 6,
   "metadata": {},
   "outputs": [],
   "source": [
    "driver = webdriver.Firefox(options=opt)"
   ]
  },
  {
   "cell_type": "markdown",
   "metadata": {},
   "source": [
    "Go to the website."
   ]
  },
  {
   "cell_type": "code",
   "execution_count": 9,
   "metadata": {},
   "outputs": [],
   "source": [
    "driver.get(links[0])"
   ]
  },
  {
   "cell_type": "markdown",
   "metadata": {},
   "source": [
    "Find the username and password fields on the page."
   ]
  },
  {
   "cell_type": "code",
   "execution_count": 10,
   "metadata": {},
   "outputs": [],
   "source": [
    "name = driver.find_element_by_id('edit-name')\n",
    "password = driver.find_element_by_id('edit-pass')"
   ]
  },
  {
   "cell_type": "markdown",
   "metadata": {},
   "source": [
    "Set your username and password"
   ]
  },
  {
   "cell_type": "code",
   "execution_count": 11,
   "metadata": {},
   "outputs": [],
   "source": [
    "name.send_keys('your_username')\n",
    "password.send_keys('your_password')"
   ]
  },
  {
   "cell_type": "markdown",
   "metadata": {},
   "source": [
    "Submit the username and password"
   ]
  },
  {
   "cell_type": "code",
   "execution_count": 12,
   "metadata": {},
   "outputs": [],
   "source": [
    "driver.find_element_by_id(\"edit-submit\").click()"
   ]
  },
  {
   "cell_type": "markdown",
   "metadata": {},
   "source": [
    "Now loop through all the links and get the csv links"
   ]
  },
  {
   "cell_type": "code",
   "execution_count": 13,
   "metadata": {},
   "outputs": [],
   "source": [
    "csv_links = []\n",
    "\n",
    "for i in range(len(links)):\n",
    "    \n",
    "    driver.get(links[i])\n",
    "\n",
    "    soup = BeautifulSoup(driver.page_source, 'lxml')\n",
    "\n",
    "    for i in soup.find_all('a', {'class':'button'}, href = re.compile(\"^/sites/default/files/\")):\n",
    "        csv_links.append(i['href'])\n",
    "        \n",
    "        time.sleep(numpy.random.randint(low = 1, high = 4,size = 1))"
   ]
  },
  {
   "cell_type": "code",
   "execution_count": 14,
   "metadata": {},
   "outputs": [
    {
     "data": {
      "text/plain": [
       "['/sites/default/files/index_data/hfri500_index_data.csv',\n",
       " '/sites/default/files/index_data/hfri_inst_index_data.csv',\n",
       " '/sites/default/files/index_data/hfrii_index_data.csv',\n",
       " '/sites/default/files/index_data/hfrii_daily_index_data.csv',\n",
       " '/sites/default/files/index_data/hfrx_index_data.csv',\n",
       " '/sites/default/files/index_data/hfrx_daily_index_data.csv',\n",
       " '/sites/default/files/index_data/hfri_index_data.csv',\n",
       " '/sites/default/files/index_data/hfrr_index_data.csv',\n",
       " '/sites/default/files/index_data/hfrp_index_data.csv',\n",
       " '/sites/default/files/index_data/hfrb_index_data.csv',\n",
       " '/sites/default/files/index_data/hfru_index_data.csv',\n",
       " '/sites/default/files/index_data/hfru_daily_index_data.csv',\n",
       " '/sites/default/files/index_data/hfri500_index_data.csv',\n",
       " '/sites/default/files/index_data/hfri_inst_index_data.csv',\n",
       " '/sites/default/files/index_data/hfrii_index_data.csv',\n",
       " '/sites/default/files/index_data/hfrii_daily_index_data.csv',\n",
       " '/sites/default/files/index_data/hfrx_index_data.csv',\n",
       " '/sites/default/files/index_data/hfrx_daily_index_data.csv',\n",
       " '/sites/default/files/index_data/hfri_index_data.csv',\n",
       " '/sites/default/files/index_data/hfrr_index_data.csv',\n",
       " '/sites/default/files/index_data/hfrp_index_data.csv',\n",
       " '/sites/default/files/index_data/hfrb_index_data.csv',\n",
       " '/sites/default/files/index_data/hfru_index_data.csv',\n",
       " '/sites/default/files/index_data/hfru_daily_index_data.csv']"
      ]
     },
     "execution_count": 14,
     "metadata": {},
     "output_type": "execute_result"
    }
   ],
   "source": [
    "csv_links"
   ]
  },
  {
   "cell_type": "code",
   "execution_count": null,
   "metadata": {},
   "outputs": [],
   "source": [
    "driver.close()"
   ]
  }
 ],
 "metadata": {
  "kernelspec": {
   "display_name": "nlp_course",
   "language": "python",
   "name": "nlp_course"
  },
  "language_info": {
   "codemirror_mode": {
    "name": "ipython",
    "version": 3
   },
   "file_extension": ".py",
   "mimetype": "text/x-python",
   "name": "python",
   "nbconvert_exporter": "python",
   "pygments_lexer": "ipython3",
   "version": "3.7.7"
  }
 },
 "nbformat": 4,
 "nbformat_minor": 2
}
